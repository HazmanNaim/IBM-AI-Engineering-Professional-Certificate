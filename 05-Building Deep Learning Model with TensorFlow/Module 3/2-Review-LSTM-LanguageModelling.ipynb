{
 "cells": [
  {
   "cell_type": "markdown",
   "metadata": {},
   "source": [
    "<img src=\"https://cf-courses-data.s3.us.cloud-object-storage.appdomain.cloud/IBMDeveloperSkillsNetwork-DL0120EN-SkillsNetwork/images/IDSN-logo.png\" width=\"300\" alt=\"cognitiveclass.ai logo\">\n",
    "\n",
    "<h1 align=\"center\"><font size=\"5\">RECURRENT NETWORKS and LSTM IN DEEP LEARNING</font></h1>\n"
   ]
  },
  {
   "cell_type": "markdown",
   "metadata": {},
   "source": [
    "Estimated time needed: **30** minutes\n"
   ]
  },
  {
   "cell_type": "markdown",
   "metadata": {},
   "source": [
    "<h2>Applying Recurrent Neural Networks/LSTM for Language Modeling</h2>\n",
    "Hello and welcome to this part. In this notebook, we will go over the topic of Language Modelling, and create a Recurrent Neural Network model based on the Long Short-Term Memory unit to train and benchmark on the Penn Treebank dataset. By the end of this notebook, you should be able to understand how TensorFlow builds and executes a RNN model for Language Modelling.\n"
   ]
  },
  {
   "cell_type": "markdown",
   "metadata": {},
   "source": [
    "<h2>The Objective</h2>\n",
    "By now, you should have an understanding of how Recurrent Networks work -- a specialized model to process sequential data by keeping track of the \"state\" or context. In this notebook, we go over a TensorFlow code snippet for creating a model focused on <b>Language Modelling</b> -- a very relevant task that is the cornerstone of many different linguistic problems such as <b>Speech Recognition, Machine Translation and Image Captioning</b>. For this, we will be using the Penn Treebank dataset, which is an often-used dataset for benchmarking Language Modelling models.\n"
   ]
  },
  {
   "cell_type": "markdown",
   "metadata": {},
   "source": [
    "\n",
    "<h2>Table of Contents</h2>\n",
    "<ol>\n",
    "    <li><a href=\"#language_modelling\">What exactly is Language Modelling?</a></li>\n",
    "    <li><a href=\"#treebank_dataset\">The Penn Treebank dataset</a></li>\n",
    "    <li><a href=\"#word_embedding\">Word Embedding</a></li>\n",
    "    <li><a href=\"#building_lstm_model\">Building the LSTM model for Language Modeling</a></li>\n",
    "    <li><a href=\"#ltsm\">LTSM</a></li>\n",
    "</ol>\n",
    "<p></p>\n",
    "</div>\n",
    "<br>\n"
   ]
  },
  {
   "cell_type": "markdown",
   "metadata": {},
   "source": [
    "--------\n"
   ]
  },
  {
   "cell_type": "markdown",
   "metadata": {},
   "source": [
    "<a id=\"language_modelling\"></a>\n",
    "<h2>What exactly is Language Modelling?</h2>\n",
    "Language Modelling, to put it simply, <b>is the task of assigning probabilities to sequences of words</b>. This means that, given a context of one or a sequence of words in the language the model was trained on, the model should provide the next most probable words or sequence of words that follows from the given sequence of words the sentence. Language Modelling is one of the most important tasks in Natural Language Processing.\n",
    "\n",
    "<img src=\"https://ibm.box.com/shared/static/1d1i5gub6wljby2vani2vzxp0xsph702.png\" width=\"1080\">\n",
    "<center><i>Example of a sentence being predicted</i></center>\n",
    "<br><br>\n",
    "In this example, one can see the predictions for the next word of a sentence, given the context \"This is an\". As you can see, this boils down to a sequential data analysis task -- you are given a word or a sequence of words (the input data), and, given the context (the state), you need to find out what is the next word (the prediction). This kind of analysis is very important for language-related tasks such as <b>Speech Recognition, Machine Translation, Image Captioning, Text Correction</b> and many other very relevant problems. \n",
    "\n",
    "<img src=\"https://ibm.box.com/shared/static/az39idf9ipfdpc5ugifpgxnydelhyf3i.png\" width=\"1080\">\n",
    "<center><i>The above example is a schema of an RNN in execution</i></center>\n",
    "<br><br>\n",
    "As the above image shows, Recurrent Network models fit this problem like a glove. Alongside LSTM and its capacity to maintain the model's state for over one thousand time steps, we have all the tools we need to undertake this problem. The goal for this notebook is to create a model that can reach <b>low levels of perplexity</b> on our desired dataset.\n",
    "\n",
    "For Language Modelling problems, <b>perplexity</b> is the way to gauge efficiency. Perplexity is simply a measure of how well a probabilistic model is able to predict its sample. A higher-level way to explain this would be saying that <b>low perplexity means a higher degree of trust in the predictions the model makes</b>. Therefore, the lower perplexity is, the better.\n"
   ]
  },
  {
   "cell_type": "markdown",
   "metadata": {},
   "source": [
    "<a id=\"treebank_dataset\"></a>\n",
    "<h2>The Penn Treebank dataset</h2>\n",
    "Historically, datasets big enough for Natural Language Processing are hard to come by. This is in part due to the necessity of the sentences to be broken down and tagged with a certain degree of correctness -- or else the models trained on it won't be able to be correct at all. This means that we need a <b>large amount of data, annotated by or at least corrected by humans</b>. This is, of course, not an easy task at all.\n",
    "\n",
    "The Penn Treebank, or PTB for short, is a dataset maintained by the University of Pennsylvania. It is <i>huge</i> -- there are over <b>four million and eight hundred thousand</b> annotated words in it, all corrected by humans. It is composed of many different sources, from abstracts of Department of Energy papers to texts from the Library of America. Since it is verifiably correct and of such a huge size, the Penn Treebank is commonly used as a benchmark dataset for Language Modelling.\n",
    "\n",
    "The dataset is divided in different kinds of annotations, such as Piece-of-Speech, Syntactic and Semantic skeletons. For this example, we will simply use a sample of clean, non-annotated words (with the exception of one tag --<code>&lt;unk&gt;</code>\n",
    ", which is used for rare words such as uncommon proper nouns) for our model. This means that we just want to predict what the next words would be, not what they mean in context or their classes on a given sentence.\n",
    "\n",
    "<center>Example of text from the dataset we are going to use, <b>ptb.train</b></center>\n",
    "<br><br>\n",
    "\n",
    "<div class=\"alert alert-block alert-info\" style=\"margin-top: 20px\">\n",
    "    <center>the percentage of lung cancer deaths among the workers at the west <code>&lt;unk&gt;</code> mass. paper factory appears to be the highest for any asbestos workers studied in western industrialized countries he said \n",
    " the plant which is owned by <code>&lt;unk&gt;</code> & <code>&lt;unk&gt;</code> co. was under contract with <code>&lt;unk&gt;</code> to make the cigarette filters \n",
    " the finding probably will support those who argue that the U.S. should regulate the class of asbestos including <code>&lt;unk&gt;</code> more <code>&lt;unk&gt;</code> than the common kind of asbestos <code>&lt;unk&gt;</code> found in most schools and other buildings dr. <code>&lt;unk&gt;</code> said</center>\n",
    "</div>\n"
   ]
  },
  {
   "cell_type": "markdown",
   "metadata": {},
   "source": [
    "<a id=\"word_embedding\"></a>\n",
    "<h2>Word Embeddings</h2><br/>\n",
    "\n",
    "For better processing, in this example, we will make use of <a href=\"https://www.tensorflow.org/tutorials/word2vec/?utm_medium=Exinfluencer&utm_source=Exinfluencer&utm_content=000026UJ&utm_term=10006555&utm_id=NA-SkillsNetwork-Channel-SkillsNetworkCoursesIBMDeveloperSkillsNetworkDL0120ENSkillsNetwork954-2023-01-01\"><b>word embeddings</b></a>, which is <b>a way of representing sentence structures or words as n-dimensional vectors (where n is a reasonably high number, such as 200 or 500) of real numbers</b>. Basically, we will assign each word a randomly-initialized vector, and input those into the network to be processed. After a number of iterations, these vectors are expected to assume values that help the network to correctly predict what it needs to -- in our case, the probable next word in the sentence. This is shown to be a very effective task in Natural Language Processing, and is a commonplace practice.\n",
    "<br><br>\n",
    "<font size=\"4\"><strong>\n",
    "$$Vec(\"Example\") = [0.02, 0.00, 0.00, 0.92, 0.30, \\ldots]$$\n",
    "</strong></font>\n",
    "<br>\n",
    "Word Embedding tends to group up similarly used words <i>reasonably</i> close together in the vectorial space. For example, if we use T-SNE (a dimensional reduction visualization algorithm) to flatten the dimensions of our vectors into a 2-dimensional space and plot these words in a 2-dimensional space, we might see something like this:\n",
    "\n",
    "<img src=\"https://ibm.box.com/shared/static/bqhc5dg879gcoabzhxra1w8rkg3od1cu.png\" width=\"800\">\n",
    "<center><i>T-SNE Mockup with clusters marked for easier visualization</i></center>\n",
    "<br><br>\n",
    "As you can see, words that are frequently used together, in place of each other, or in the same places as them tend to be grouped together -- being closer together the higher they are correlated. For example, \"None\" is pretty semantically close to \"Zero\", while a phrase that uses \"Italy\", you could probably also fit \"Germany\" in it, with little damage to the sentence structure. The vectorial \"closeness\" for similar words like this is a great indicator of a well-built model.\n",
    "\n",
    "<hr>\n",
    " \n"
   ]
  },
  {
   "cell_type": "markdown",
   "metadata": {},
   "source": [
    "We need to import the necessary modules for our code. We need <b><code>numpy</code></b> and <b><code>tensorflow</code></b>, obviously. Additionally, we can import directly the <b><code>tensorflow.models.rnn</code></b> model, which includes the function for building RNNs, and <b><code>tensorflow.models.rnn.ptb.reader</code></b> which is the helper module for getting the input data from the dataset we just downloaded.\n",
    "\n",
    "If you want to learn more take a look at https://github.com/tensorflow/models/blob/master/tutorials/rnn/ptb/reader.py\n"
   ]
  },
  {
   "cell_type": "code",
   "execution_count": null,
   "metadata": {
    "tags": []
   },
   "outputs": [],
   "source": [
    "!pip install tensorflow==2.9.0\n",
    "!pip install numpy==1.21.4\n"
   ]
  },
  {
   "cell_type": "code",
   "execution_count": 1,
   "metadata": {
    "tags": []
   },
   "outputs": [
    {
     "name": "stderr",
     "output_type": "stream",
     "text": [
      "2023-11-08 07:39:04.894033: I tensorflow/core/util/util.cc:169] oneDNN custom operations are on. You may see slightly different numerical results due to floating-point round-off errors from different computation orders. To turn them off, set the environment variable `TF_ENABLE_ONEDNN_OPTS=0`.\n",
      "2023-11-08 07:39:04.903413: W tensorflow/stream_executor/platform/default/dso_loader.cc:64] Could not load dynamic library 'libcudart.so.11.0'; dlerror: libcudart.so.11.0: cannot open shared object file: No such file or directory\n",
      "2023-11-08 07:39:04.903450: I tensorflow/stream_executor/cuda/cudart_stub.cc:29] Ignore above cudart dlerror if you do not have a GPU set up on your machine.\n"
     ]
    }
   ],
   "source": [
    "import time\n",
    "import numpy as np\n",
    "import tensorflow as tf\n",
    "if not tf.__version__ == '2.9.0':\n",
    "    print(tf.__version__)\n",
    "    raise ValueError('please upgrade to TensorFlow 2.9.0, or restart your Kernel (Kernel->Restart & Clear Output)')"
   ]
  },
  {
   "cell_type": "markdown",
   "metadata": {},
   "source": [
    "IMPORTANT! => Please restart the kernel by clicking on \"Kernel\"->\"Restart and Clear Outout\" and wait until all output disapears. Then your changes are beeing picked up\n"
   ]
  },
  {
   "cell_type": "code",
   "execution_count": 14,
   "metadata": {
    "tags": []
   },
   "outputs": [],
   "source": [
    "!mkdir data\n",
    "!mkdir data/ptb\n",
    "!wget -q -O data/ptb/reader.py https://cf-courses-data.s3.us.cloud-object-storage.appdomain.cloud/IBMDeveloperSkillsNetwork-DL0120EN-SkillsNetwork/labs/Week3/data/ptb/reader.py\n",
    "!cp data/ptb/reader.py .\n",
    "\n"
   ]
  },
  {
   "cell_type": "markdown",
   "metadata": {},
   "source": [
    "<a id=\"building_lstm_model\"></a>\n",
    "<h2>Building the LSTM model for Language Modeling</h2>\n",
    "Now that we know exactly what we are doing, we can start building our model using TensorFlow. The very first thing we need to do is download and extract the <code>simple-examples</code> dataset, which can be done by executing the code cell below.\n"
   ]
  },
  {
   "cell_type": "code",
   "execution_count": 15,
   "metadata": {
    "tags": []
   },
   "outputs": [
    {
     "name": "stdout",
     "output_type": "stream",
     "text": [
      "--2023-11-08 07:54:31--  http://www.fit.vutbr.cz/~imikolov/rnnlm/simple-examples.tgz\n",
      "Resolving www.fit.vutbr.cz (www.fit.vutbr.cz)... 147.229.9.23, 2001:67c:1220:809::93e5:917\n",
      "Connecting to www.fit.vutbr.cz (www.fit.vutbr.cz)|147.229.9.23|:80... connected.\n",
      "HTTP request sent, awaiting response... 200 OK\n",
      "Length: 34869662 (33M) [application/x-gtar]\n",
      "Saving to: ‘simple-examples.tgz.1’\n",
      "\n",
      "simple-examples.tgz 100%[===================>]  33.25M  8.87MB/s    in 4.1s    \n",
      "\n",
      "2023-11-08 07:54:36 (8.08 MB/s) - ‘simple-examples.tgz.1’ saved [34869662/34869662]\n",
      "\n"
     ]
    }
   ],
   "source": [
    "!wget http://www.fit.vutbr.cz/~imikolov/rnnlm/simple-examples.tgz \n",
    "!tar xzf simple-examples.tgz -C data/"
   ]
  },
  {
   "cell_type": "markdown",
   "metadata": {},
   "source": [
    "Additionally, for the sake of making it easy to play around with the model's hyperparameters, we can declare them beforehand. Feel free to change these -- you will see a difference in performance each time you change those!  \n"
   ]
  },
  {
   "cell_type": "code",
   "execution_count": 12,
   "metadata": {
    "tags": []
   },
   "outputs": [],
   "source": [
    "#Initial weight scale\n",
    "init_scale = 0.1\n",
    "#Initial learning rate\n",
    "learning_rate = 1.0\n",
    "#Maximum permissible norm for the gradient (For gradient clipping -- another measure against Exploding Gradients)\n",
    "max_grad_norm = 5\n",
    "#The number of layers in our model\n",
    "num_layers = 2\n",
    "#The total number of recurrence steps, also known as the number of layers when our RNN is \"unfolded\"\n",
    "num_steps = 20\n",
    "#The number of processing units (neurons) in the hidden layers\n",
    "hidden_size_l1 = 256\n",
    "hidden_size_l2 = 128\n",
    "#The maximum number of epochs trained with the initial learning rate\n",
    "max_epoch_decay_lr = 4\n",
    "#The total number of epochs in training\n",
    "max_epoch = 15\n",
    "#The probability for keeping data in the Dropout Layer (This is an optimization, but is outside our scope for this notebook!)\n",
    "#At 1, we ignore the Dropout Layer wrapping.\n",
    "keep_prob = 1\n",
    "#The decay for the learning rate\n",
    "decay = 0.5\n",
    "#The size for each batch of data\n",
    "batch_size = 30\n",
    "#The size of our vocabulary\n",
    "vocab_size = 10000\n",
    "embeding_vector_size= 200\n",
    "#Training flag to separate training from testing\n",
    "is_training = 1\n",
    "#Data directory for our dataset\n",
    "data_dir = \"data/simple-examples/data/\""
   ]
  },
  {
   "cell_type": "markdown",
   "metadata": {},
   "source": [
    "Some clarifications for LSTM architecture based on the arguments:\n",
    "\n",
    "Network structure:\n",
    "<ul>\n",
    "    <li>In this network, the number of LSTM cells are 2. To give the model more expressive power, we can add multiple layers of LSTMs to process the data. The output of the first layer will become the input of the second and so on.\n",
    "    </li>\n",
    "    <li>The recurrence steps is 20, that is, when our RNN is \"Unfolded\", the recurrence step is 20.</li>   \n",
    "    <li>the structure is like:\n",
    "        <ul>\n",
    "            <li>200 input units -> [200x200] Weight -> 200 Hidden units (first layer) -> [200x200] Weight matrix  -> 200 Hidden units (second layer) ->  [200] weight Matrix -> 200 unit output</li>\n",
    "        </ul>\n",
    "    </li>\n",
    "</ul>\n",
    "<br>\n",
    "\n",
    "Input layer: \n",
    "<ul>\n",
    "    <li>The network has 200 input units.</li>\n",
    "    <li>Suppose each word is represented by an embedding vector of dimensionality e=200. The input layer of each cell will have 200 linear units. These e=200 linear units are connected to each of the h=200 LSTM units in the hidden layer (assuming there is only one hidden layer, though our case has 2 layers).\n",
    "    </li>\n",
    "    <li>The input shape is [batch_size, num_steps], that is [30x20]. It will turn into [30x20x200] after embedding, and then 20x[30x200]\n",
    "    </li>\n",
    "</ul>\n",
    "<br>\n",
    "\n",
    "Hidden layer:\n",
    "<ul>\n",
    "    <li>Each LSTM has 200 hidden units which is equivalent to the dimensionality of the embedding words and output.</li>\n",
    "</ul>\n",
    "<br>\n"
   ]
  },
  {
   "cell_type": "markdown",
   "metadata": {},
   "source": [
    "There is a lot to be done and a ton of information to process at the same time, so go over this code slowly. It may seem complex at first, but if you try to apply what you just learned about language modelling to the code you see, you should be able to understand it.\n",
    "\n",
    "This code is adapted from the <a href=\"https://github.com/tensorflow/models\">PTBModel</a> example bundled with the TensorFlow source code.\n",
    "\n",
    "\n",
    "<h3>Training data</h3>\n",
    "The story starts from data:\n",
    "<ul>\n",
    "    <li>Train data is a list of words, of size 929589, represented by numbers, e.g. [9971, 9972, 9974, 9975,...]</li>\n",
    "    <li>We read data as mini-batch of size b=30. Assume the size of each sentence is 20 words (num_steps = 20). Then it will take $$floor(\\frac{N}{b \\times h})+1=1548$$ iterations for the learner to go through all sentences once. Where N is the size of the list of words, b is batch size, and h is size of each sentence. So, the number of iterators is 1548\n",
    "    </li>\n",
    "    <li>Each batch data is read from train dataset of size 600, and shape of [30x20]</li>\n",
    "</ul>\n"
   ]
  },
  {
   "cell_type": "code",
   "execution_count": 16,
   "metadata": {
    "tags": []
   },
   "outputs": [],
   "source": [
    "# Reads the data and separates it into training data, validation data and testing data\n",
    "raw_data = ptb_raw_data(data_dir)\n",
    "train_data, valid_data, test_data, vocab, word_to_id = raw_data"
   ]
  },
  {
   "cell_type": "code",
   "execution_count": 17,
   "metadata": {
    "tags": []
   },
   "outputs": [
    {
     "data": {
      "text/plain": [
       "929589"
      ]
     },
     "execution_count": 17,
     "metadata": {},
     "output_type": "execute_result"
    }
   ],
   "source": [
    "len(train_data)"
   ]
  },
  {
   "cell_type": "code",
   "execution_count": 18,
   "metadata": {
    "tags": []
   },
   "outputs": [
    {
     "name": "stdout",
     "output_type": "stream",
     "text": [
      "['aer', 'banknote', 'berlitz', 'calloway', 'centrust', 'cluett', 'fromstein', 'gitano', 'guterman', 'hydro-quebec', 'ipo', 'kia', 'memotec', 'mlx', 'nahb', 'punts', 'rake', 'regatta', 'rubens', 'sim', 'snack-food', 'ssangyong', 'swapo', 'wachter', '<eos>', 'pierre', '<unk>', 'N', 'years', 'old', 'will', 'join', 'the', 'board', 'as', 'a', 'nonexecutive', 'director', 'nov.', 'N', '<eos>', 'mr.', '<unk>', 'is', 'chairman', 'of', '<unk>', 'n.v.', 'the', 'dutch', 'publishing', 'group', '<eos>', 'rudolph', '<unk>', 'N', 'years', 'old', 'and', 'former', 'chairman', 'of', 'consolidated', 'gold', 'fields', 'plc', 'was', 'named', 'a', 'nonexecutive', 'director', 'of', 'this', 'british', 'industrial', 'conglomerate', '<eos>', 'a', 'form', 'of', 'asbestos', 'once', 'used', 'to', 'make', 'kent', 'cigarette', 'filters', 'has', 'caused', 'a', 'high', 'percentage', 'of', 'cancer', 'deaths', 'among', 'a', 'group', 'of']\n"
     ]
    }
   ],
   "source": [
    "def id_to_word(id_list):\n",
    "    line = []\n",
    "    for w in id_list:\n",
    "        for word, wid in word_to_id.items():\n",
    "            if wid == w:\n",
    "                line.append(word)\n",
    "    return line            \n",
    "                \n",
    "\n",
    "print(id_to_word(train_data[0:100]))"
   ]
  },
  {
   "cell_type": "markdown",
   "metadata": {},
   "source": [
    "Lets just read one mini-batch now and feed our network:\n"
   ]
  },
  {
   "cell_type": "code",
   "execution_count": 19,
   "metadata": {
    "tags": []
   },
   "outputs": [],
   "source": [
    "itera = ptb_iterator(train_data, batch_size, num_steps)\n",
    "first_touple = itera.__next__()\n",
    "_input_data = first_touple[0]\n",
    "_targets = first_touple[1]"
   ]
  },
  {
   "cell_type": "code",
   "execution_count": 20,
   "metadata": {
    "tags": []
   },
   "outputs": [
    {
     "data": {
      "text/plain": [
       "(30, 20)"
      ]
     },
     "execution_count": 20,
     "metadata": {},
     "output_type": "execute_result"
    }
   ],
   "source": [
    "_input_data.shape"
   ]
  },
  {
   "cell_type": "code",
   "execution_count": 21,
   "metadata": {
    "tags": []
   },
   "outputs": [
    {
     "data": {
      "text/plain": [
       "(30, 20)"
      ]
     },
     "execution_count": 21,
     "metadata": {},
     "output_type": "execute_result"
    }
   ],
   "source": [
    "_targets.shape"
   ]
  },
  {
   "cell_type": "markdown",
   "metadata": {},
   "source": [
    "Lets look at 3 sentences of our input x:\n"
   ]
  },
  {
   "cell_type": "code",
   "execution_count": 22,
   "metadata": {
    "tags": []
   },
   "outputs": [
    {
     "data": {
      "text/plain": [
       "array([[9970, 9971, 9972, 9974, 9975, 9976, 9980, 9981, 9982, 9983, 9984,\n",
       "        9986, 9987, 9988, 9989, 9991, 9992, 9993, 9994, 9995],\n",
       "       [2654,    6,  334, 2886,    4,    1,  233,  711,  834,   11,  130,\n",
       "         123,    7,  514,    2,   63,   10,  514,    8,  605],\n",
       "       [   0, 1071,    4,    0,  185,   24,  368,   20,   31, 3109,  954,\n",
       "          12,    3,   21,    2, 2915,    2,   12,    3,   21]],\n",
       "      dtype=int32)"
      ]
     },
     "execution_count": 22,
     "metadata": {},
     "output_type": "execute_result"
    }
   ],
   "source": [
    "_input_data[0:3]"
   ]
  },
  {
   "cell_type": "code",
   "execution_count": 23,
   "metadata": {
    "tags": []
   },
   "outputs": [
    {
     "name": "stdout",
     "output_type": "stream",
     "text": [
      "['aer', 'banknote', 'berlitz', 'calloway', 'centrust', 'cluett', 'fromstein', 'gitano', 'guterman', 'hydro-quebec', 'ipo', 'kia', 'memotec', 'mlx', 'nahb', 'punts', 'rake', 'regatta', 'rubens', 'sim']\n"
     ]
    }
   ],
   "source": [
    "print(id_to_word(_input_data[0,:]))"
   ]
  },
  {
   "cell_type": "markdown",
   "metadata": {},
   "source": [
    "<h3>Embeddings</h3>\n",
    "We have to convert the words in our dataset to vectors of numbers. The traditional approach is to use one-hot encoding method that is usually used for converting categorical values to numerical values. However, One-hot encoded vectors are high-dimensional, sparse and in a big dataset, computationally inefficient. So, we use word2vec approach. It is, in fact, a layer in our LSTM network, where the word IDs will be represented as a dense representation before feeding to the LSTM. \n",
    "\n",
    "The embedded vectors also get updated during the training process of the deep neural network.\n",
    "We create the embeddings for our input data. <b>embedding_vocab</b> is matrix of [10000x200] for all 10000 unique words.\n"
   ]
  },
  {
   "cell_type": "markdown",
   "metadata": {},
   "source": [
    "<b>embedding_lookup()</b> finds the embedded values for our batch of 30x20 words. It  goes to each row of <code>input_data</code>, and for each word in the row/sentence, finds the correspond vector in <code>embedding_dic<code>. <br>\n",
    "It creates a [30x20x200] tensor, so, the first element of <b>inputs</b> (the first sentence), is a matrix of 20x200, which each row of it, is vector representing a word in the sentence.\n"
   ]
  },
  {
   "cell_type": "code",
   "execution_count": 34,
   "metadata": {
    "tags": []
   },
   "outputs": [],
   "source": [
    "embedding_layer = tf.keras.layers.Embedding(vocab_size, embeding_vector_size,batch_input_shape=(batch_size, num_steps),trainable=True,name=\"embedding_vocab\")  "
   ]
  },
  {
   "cell_type": "code",
   "execution_count": 35,
   "metadata": {
    "tags": []
   },
   "outputs": [
    {
     "data": {
      "text/plain": [
       "<tf.Tensor: shape=(30, 20, 200), dtype=float32, numpy=\n",
       "array([[[ 0.01925438, -0.03705291, -0.01299821, ..., -0.02939001,\n",
       "         -0.03583475,  0.03864649],\n",
       "        [-0.00342524,  0.04730581, -0.02729104, ...,  0.02688018,\n",
       "          0.03629053, -0.01126305],\n",
       "        [ 0.0228861 ,  0.02821184, -0.01787085, ...,  0.03364846,\n",
       "         -0.04784663, -0.01263298],\n",
       "        ...,\n",
       "        [ 0.03807845, -0.03641016, -0.008714  , ..., -0.03450886,\n",
       "          0.04318884,  0.02516785],\n",
       "        [-0.02156252,  0.04320426, -0.02891477, ...,  0.0208413 ,\n",
       "         -0.04934147, -0.03161234],\n",
       "        [-0.01600475,  0.03099192,  0.00843947, ..., -0.0435531 ,\n",
       "          0.03520921, -0.04846034]],\n",
       "\n",
       "       [[-0.03252907,  0.04712862,  0.00453528, ...,  0.02965181,\n",
       "         -0.04687959,  0.01253119],\n",
       "        [ 0.01672008, -0.03273068, -0.01429556, ...,  0.02810169,\n",
       "         -0.03596759, -0.02230972],\n",
       "        [ 0.0449436 , -0.03712835,  0.03438652, ...,  0.01820631,\n",
       "          0.0056604 ,  0.04864302],\n",
       "        ...,\n",
       "        [ 0.04942485,  0.01831312, -0.02599378, ...,  0.03534308,\n",
       "          0.04966902, -0.02169865],\n",
       "        [-0.04263271,  0.03799851, -0.0267025 , ...,  0.00919131,\n",
       "         -0.01823367,  0.03236579],\n",
       "        [ 0.03146065, -0.01940192,  0.0120281 , ...,  0.04900033,\n",
       "          0.00573144,  0.00715655]],\n",
       "\n",
       "       [[-0.03543464,  0.0191412 , -0.02271789, ..., -0.01367978,\n",
       "         -0.00162099,  0.0474108 ],\n",
       "        [ 0.01592531,  0.0018648 , -0.00070033, ...,  0.04519285,\n",
       "         -0.01809813,  0.00644215],\n",
       "        [-0.00558146,  0.02769723,  0.04003897, ...,  0.04017058,\n",
       "          0.00637124, -0.00809664],\n",
       "        ...,\n",
       "        [ 0.02390995, -0.01757107,  0.02561877, ..., -0.01451687,\n",
       "          0.02147544,  0.03482321],\n",
       "        [-0.02799742,  0.01007724, -0.04633639, ...,  0.03599199,\n",
       "         -0.02220924, -0.02499324],\n",
       "        [ 0.00770856, -0.00682436, -0.01692784, ...,  0.03016924,\n",
       "          0.04702898, -0.00528076]],\n",
       "\n",
       "       ...,\n",
       "\n",
       "       [[-0.00393433,  0.01390699,  0.02229612, ...,  0.01056459,\n",
       "         -0.01413845,  0.01430297],\n",
       "        [ 0.04621923,  0.03063173,  0.01282997, ..., -0.03674475,\n",
       "         -0.0106653 ,  0.00128937],\n",
       "        [ 0.01783012, -0.02459374, -0.01262212, ..., -0.03540803,\n",
       "          0.00934277, -0.04264245],\n",
       "        ...,\n",
       "        [ 0.04888555,  0.03694132,  0.02577175, ...,  0.03634672,\n",
       "          0.01719824, -0.017433  ],\n",
       "        [-0.02690474,  0.01245732, -0.04745493, ..., -0.03503229,\n",
       "          0.01826019, -0.01874236],\n",
       "        [-0.01892644,  0.04737756, -0.02592183, ...,  0.02011881,\n",
       "          0.00026953, -0.01951841]],\n",
       "\n",
       "       [[-0.0102633 , -0.03283521,  0.00691892, ...,  0.01098384,\n",
       "          0.01228238, -0.01129032],\n",
       "        [-0.00850494, -0.03014502, -0.00132136, ...,  0.02087034,\n",
       "         -0.03941928,  0.00403479],\n",
       "        [-0.00558146,  0.02769723,  0.04003897, ...,  0.04017058,\n",
       "          0.00637124, -0.00809664],\n",
       "        ...,\n",
       "        [-0.03421197,  0.04074793, -0.03109225, ...,  0.00898285,\n",
       "         -0.04076861,  0.01073177],\n",
       "        [ 0.01672008, -0.03273068, -0.01429556, ...,  0.02810169,\n",
       "         -0.03596759, -0.02230972],\n",
       "        [ 0.04354196,  0.00597081,  0.03524742, ..., -0.01978724,\n",
       "         -0.04196076,  0.02118548]],\n",
       "\n",
       "       [[ 0.01398678, -0.02515094, -0.04126952, ...,  0.0298346 ,\n",
       "          0.00998261, -0.02683486],\n",
       "        [-0.03376989,  0.01019575, -0.01129894, ..., -0.01911088,\n",
       "         -0.02745934,  0.02424461],\n",
       "        [ 0.00828224,  0.01413715,  0.01499106, ..., -0.00493272,\n",
       "          0.03637529, -0.0326002 ],\n",
       "        ...,\n",
       "        [ 0.02783279,  0.01107601, -0.01858411, ..., -0.0174349 ,\n",
       "          0.03159181,  0.00589521],\n",
       "        [ 0.02702895, -0.03628538,  0.04264886, ..., -0.04509806,\n",
       "          0.02545491, -0.03957218],\n",
       "        [-0.0488878 ,  0.0411533 , -0.01860023, ..., -0.03884254,\n",
       "          0.0481295 , -0.04566668]]], dtype=float32)>"
      ]
     },
     "execution_count": 35,
     "metadata": {},
     "output_type": "execute_result"
    }
   ],
   "source": [
    "# Define where to get the data for our embeddings from\n",
    "inputs = embedding_layer(_input_data)\n",
    "inputs"
   ]
  },
  {
   "cell_type": "markdown",
   "metadata": {},
   "source": [
    "<h3>Constructing Recurrent Neural Networks</h3>\n"
   ]
  },
  {
   "cell_type": "markdown",
   "metadata": {},
   "source": [
    "In this step, we create the stacked LSTM using <b>tf.keras.layers.StackedRNNCells</b>, which is a 2 layer LSTM network:\n"
   ]
  },
  {
   "cell_type": "code",
   "execution_count": 36,
   "metadata": {
    "tags": []
   },
   "outputs": [],
   "source": [
    "lstm_cell_l1 = tf.keras.layers.LSTMCell(hidden_size_l1)\n",
    "lstm_cell_l2 = tf.keras.layers.LSTMCell(hidden_size_l2)"
   ]
  },
  {
   "cell_type": "code",
   "execution_count": 37,
   "metadata": {
    "tags": []
   },
   "outputs": [],
   "source": [
    "stacked_lstm = tf.keras.layers.StackedRNNCells([lstm_cell_l1, lstm_cell_l2])"
   ]
  },
  {
   "cell_type": "markdown",
   "metadata": {},
   "source": [
    "<b>tf.keras.layers.RNN</b> creates a recurrent neural network using <b>stacked_lstm</b>. \n",
    "\n",
    "The input should be a Tensor of shape: [batch_size, max_time, embedding_vector_size], in our case it would be (30, 20, 200)\n"
   ]
  },
  {
   "cell_type": "code",
   "execution_count": 38,
   "metadata": {
    "tags": []
   },
   "outputs": [],
   "source": [
    "layer  =  tf.keras.layers.RNN(stacked_lstm,[batch_size, num_steps],return_state=False,stateful=True,trainable=True)"
   ]
  },
  {
   "cell_type": "markdown",
   "metadata": {},
   "source": [
    "Also, we initialize the states of the nework:\n",
    "\n",
    "<h4>_initial_state</h4>\n",
    "\n",
    "For each LSTM, there are 2 state matrices, c\\_state and m\\_state.  c_state and m_state represent \"Memory State\" and \"Cell State\". Each hidden layer, has a vector of size 30, which keeps the states. so, for 200 hidden units in each LSTM, we have a matrix of size [30x200]\n"
   ]
  },
  {
   "cell_type": "code",
   "execution_count": 39,
   "metadata": {
    "tags": []
   },
   "outputs": [],
   "source": [
    "init_state = tf.Variable(tf.zeros([batch_size,embeding_vector_size]),trainable=False)"
   ]
  },
  {
   "cell_type": "code",
   "execution_count": 40,
   "metadata": {
    "tags": []
   },
   "outputs": [],
   "source": [
    "layer.inital_state = init_state"
   ]
  },
  {
   "cell_type": "code",
   "execution_count": 41,
   "metadata": {
    "tags": []
   },
   "outputs": [
    {
     "data": {
      "text/plain": [
       "<tf.Variable 'Variable:0' shape=(30, 200) dtype=float32, numpy=\n",
       "array([[0., 0., 0., ..., 0., 0., 0.],\n",
       "       [0., 0., 0., ..., 0., 0., 0.],\n",
       "       [0., 0., 0., ..., 0., 0., 0.],\n",
       "       ...,\n",
       "       [0., 0., 0., ..., 0., 0., 0.],\n",
       "       [0., 0., 0., ..., 0., 0., 0.],\n",
       "       [0., 0., 0., ..., 0., 0., 0.]], dtype=float32)>"
      ]
     },
     "execution_count": 41,
     "metadata": {},
     "output_type": "execute_result"
    }
   ],
   "source": [
    "layer.inital_state"
   ]
  },
  {
   "cell_type": "markdown",
   "metadata": {},
   "source": [
    "so, lets look at the outputs. The output of the stackedLSTM comes from 128 hidden_layer, and in each time step(=20), one of them get activated. we use the linear activation to map the 128 hidden layer to a [30X20 matrix]\n"
   ]
  },
  {
   "cell_type": "code",
   "execution_count": 42,
   "metadata": {
    "tags": []
   },
   "outputs": [],
   "source": [
    "outputs = layer(inputs)"
   ]
  },
  {
   "cell_type": "code",
   "execution_count": 43,
   "metadata": {
    "tags": []
   },
   "outputs": [
    {
     "data": {
      "text/plain": [
       "<tf.Tensor: shape=(30, 20, 128), dtype=float32, numpy=\n",
       "array([[[ 9.39153251e-04,  3.42290412e-04,  1.76012953e-04, ...,\n",
       "         -1.54121406e-03,  2.42044055e-03, -5.54728147e-04],\n",
       "        [ 2.02155579e-03,  1.66411744e-03, -4.92905492e-05, ...,\n",
       "         -2.35203491e-03,  4.19338373e-03,  1.12636042e-06],\n",
       "        [ 2.61607533e-03,  1.20368763e-03,  2.86193739e-04, ...,\n",
       "         -3.20101366e-03,  4.47756331e-03,  7.50481093e-04],\n",
       "        ...,\n",
       "        [ 1.57977105e-03,  1.97503460e-03,  2.43081572e-03, ...,\n",
       "          1.75583715e-04, -7.47879036e-03, -5.13568637e-04],\n",
       "        [ 2.75941868e-03,  2.66470737e-03,  2.59088399e-03, ...,\n",
       "          1.65296043e-03, -8.26152600e-03,  1.53262727e-03],\n",
       "        [ 1.79645629e-03,  3.23936972e-03,  3.17678601e-03, ...,\n",
       "          2.26909132e-03, -9.26483423e-03,  3.30615020e-03]],\n",
       "\n",
       "       [[ 1.68204249e-04,  9.67648870e-04,  7.37614057e-04, ...,\n",
       "         -1.27655349e-03, -4.78133064e-04, -1.27247989e-03],\n",
       "        [ 9.47080189e-05,  3.46824090e-04,  1.01240864e-03, ...,\n",
       "         -2.32593389e-03, -1.37501466e-03, -2.46622646e-03],\n",
       "        [ 1.48249895e-03,  8.51727906e-04,  7.71666353e-04, ...,\n",
       "         -3.83538590e-03, -6.57780969e-04, -4.05652774e-03],\n",
       "        ...,\n",
       "        [-4.74320212e-03,  1.38711825e-03, -3.14593897e-03, ...,\n",
       "          2.37460574e-03, -3.78594920e-03,  2.51806364e-03],\n",
       "        [-7.66613707e-03,  1.41609099e-03, -5.14655234e-03, ...,\n",
       "          3.99865909e-03, -2.27784878e-03,  2.72684987e-03],\n",
       "        [-9.36536584e-03,  2.29500569e-04, -5.28925052e-03, ...,\n",
       "          3.70365544e-03, -9.55956464e-04,  1.74837338e-03]],\n",
       "\n",
       "       [[-3.09158699e-04, -4.76095847e-05,  1.65695569e-03, ...,\n",
       "          8.56892148e-05,  4.41563432e-04, -2.11584367e-04],\n",
       "        [ 3.43578635e-04, -4.77429188e-04,  1.99941127e-03, ...,\n",
       "         -7.24855752e-04,  7.66618061e-04, -5.11441962e-04],\n",
       "        [ 5.16870059e-04, -1.76241540e-03,  1.91022258e-03, ...,\n",
       "         -1.09739113e-03, -1.93203465e-04, -1.26481487e-03],\n",
       "        ...,\n",
       "        [-5.14330762e-03,  2.22330843e-03, -8.63978639e-03, ...,\n",
       "         -9.68663589e-05, -1.11523950e-02, -6.31783623e-03],\n",
       "        [-6.12600520e-03,  1.95022731e-03, -8.44286568e-03, ...,\n",
       "          2.54987972e-04, -1.06717618e-02, -6.99637458e-03],\n",
       "        [-7.22646387e-03,  8.86890455e-04, -8.32990557e-03, ...,\n",
       "          1.20074910e-04, -8.87305010e-03, -6.47822255e-03]],\n",
       "\n",
       "       ...,\n",
       "\n",
       "       [[ 3.12433200e-04, -1.55127828e-03,  4.22334240e-04, ...,\n",
       "         -1.08662745e-04, -4.65578254e-04,  4.78379778e-04],\n",
       "        [ 2.19441717e-04, -2.32024631e-03,  8.83337198e-05, ...,\n",
       "          1.05506952e-04, -1.75805658e-03,  1.37971237e-03],\n",
       "        [-1.31809415e-04, -2.08715745e-03, -1.19567476e-03, ...,\n",
       "          6.15102355e-04, -1.92382338e-03,  2.05625570e-03],\n",
       "        ...,\n",
       "        [-2.85795564e-03, -7.48227118e-03,  3.06175975e-03, ...,\n",
       "         -2.58672214e-03, -3.47245834e-04, -3.43270251e-03],\n",
       "        [-2.73623434e-03, -5.50099323e-03,  2.38754973e-03, ...,\n",
       "         -1.80391490e-03, -9.67113068e-04, -3.86857660e-03],\n",
       "        [-3.29258596e-03, -4.53616958e-03,  2.31714151e-03, ...,\n",
       "         -7.20794487e-04, -8.60783766e-05, -4.36911313e-03]],\n",
       "\n",
       "       [[-8.16062151e-04,  5.00049966e-04, -8.81537329e-04, ...,\n",
       "          6.56663964e-04,  1.32626144e-03,  4.22931989e-05],\n",
       "        [-2.68827984e-03, -4.68073878e-04, -1.18302833e-03, ...,\n",
       "          2.40072445e-03,  2.11967598e-03, -1.02687185e-03],\n",
       "        [-3.69130843e-03, -1.76844606e-03, -1.49931794e-03, ...,\n",
       "          3.08558159e-03,  1.21156999e-03, -2.25749123e-03],\n",
       "        ...,\n",
       "        [ 2.49785092e-03,  5.98607527e-04,  3.34162265e-04, ...,\n",
       "         -5.30726742e-04,  5.76094753e-05, -3.73612833e-03],\n",
       "        [ 1.24605198e-03, -3.55003402e-04,  7.31568260e-04, ...,\n",
       "         -5.54424012e-04, -1.82791264e-03, -4.10358282e-03],\n",
       "        [-8.11005302e-04, -8.76328442e-04,  2.29482981e-03, ...,\n",
       "         -8.01164424e-04, -3.09772440e-03, -3.45996139e-03]],\n",
       "\n",
       "       [[ 1.68669198e-04,  6.78446086e-04,  9.56759439e-04, ...,\n",
       "          3.71345581e-04, -9.92458430e-04,  1.91451778e-04],\n",
       "        [-1.92807987e-04,  8.71721131e-04,  2.44868873e-03, ...,\n",
       "         -2.55790714e-04, -1.43292663e-03, -1.49366038e-03],\n",
       "        [ 3.88267130e-04,  8.54175712e-04,  3.07344482e-03, ...,\n",
       "         -1.61402777e-03, -2.30985740e-03, -1.00489089e-03],\n",
       "        ...,\n",
       "        [ 5.68144908e-03,  1.28611736e-03, -8.44823662e-03, ...,\n",
       "          1.87122147e-03,  6.75601698e-03, -4.33093961e-03],\n",
       "        [ 6.28727023e-03,  1.01900916e-03, -7.74193043e-03, ...,\n",
       "          2.58945930e-03,  9.58256889e-03, -4.54126997e-03],\n",
       "        [ 3.85015202e-03,  1.31996884e-03, -7.96341803e-03, ...,\n",
       "          4.16303473e-03,  9.67641454e-03, -2.67591141e-03]]],\n",
       "      dtype=float32)>"
      ]
     },
     "execution_count": 43,
     "metadata": {},
     "output_type": "execute_result"
    }
   ],
   "source": [
    "outputs"
   ]
  },
  {
   "cell_type": "markdown",
   "metadata": {},
   "source": [
    "<h2>Dense layer</h2>\n",
    "We now create densely-connected neural network layer that would reshape the outputs tensor from  [30 x 20 x 128] to [30 x 20 x 10000].\n"
   ]
  },
  {
   "cell_type": "code",
   "execution_count": 44,
   "metadata": {
    "tags": []
   },
   "outputs": [],
   "source": [
    "dense = tf.keras.layers.Dense(vocab_size)"
   ]
  },
  {
   "cell_type": "code",
   "execution_count": 45,
   "metadata": {
    "tags": []
   },
   "outputs": [],
   "source": [
    "logits_outputs  = dense(outputs)"
   ]
  },
  {
   "cell_type": "code",
   "execution_count": 46,
   "metadata": {
    "tags": []
   },
   "outputs": [
    {
     "name": "stdout",
     "output_type": "stream",
     "text": [
      "shape of the output from dense layer:  (30, 20, 10000)\n"
     ]
    }
   ],
   "source": [
    "print(\"shape of the output from dense layer: \", logits_outputs.shape) #(batch_size, sequence_length, vocab_size)"
   ]
  },
  {
   "cell_type": "markdown",
   "metadata": {},
   "source": [
    "<h2>Activation layer</h2>\n",
    "\n",
    "\n",
    "A softmax activation layers is also then applied to derive the probability of the output being in any of the multiclass(10000 in this case) possibilities. \n"
   ]
  },
  {
   "cell_type": "code",
   "execution_count": 47,
   "metadata": {
    "tags": []
   },
   "outputs": [],
   "source": [
    "activation = tf.keras.layers.Activation('softmax')"
   ]
  },
  {
   "cell_type": "code",
   "execution_count": 48,
   "metadata": {
    "tags": []
   },
   "outputs": [],
   "source": [
    "output_words_prob = activation(logits_outputs)"
   ]
  },
  {
   "cell_type": "code",
   "execution_count": 49,
   "metadata": {
    "tags": []
   },
   "outputs": [
    {
     "name": "stdout",
     "output_type": "stream",
     "text": [
      "shape of the output from the activation layer:  (30, 20, 10000)\n"
     ]
    }
   ],
   "source": [
    "print(\"shape of the output from the activation layer: \", output_words_prob.shape) #(batch_size, sequence_length, vocab_size)"
   ]
  },
  {
   "cell_type": "markdown",
   "metadata": {},
   "source": [
    "Lets look at the probability of observing words for t=0 to t=20:\n"
   ]
  },
  {
   "cell_type": "code",
   "execution_count": 50,
   "metadata": {
    "tags": []
   },
   "outputs": [
    {
     "name": "stdout",
     "output_type": "stream",
     "text": [
      "The probability of observing words in t=0 to t=20 tf.Tensor(\n",
      "[[1.00002428e-04 9.99930780e-05 9.99779732e-05 ... 9.99628319e-05\n",
      "  9.99972763e-05 9.99907570e-05]\n",
      " [1.00021978e-04 9.99516633e-05 9.99341501e-05 ... 9.99279073e-05\n",
      "  9.99745389e-05 9.99930417e-05]\n",
      " [1.00049292e-04 9.99270633e-05 9.98989854e-05 ... 9.99252370e-05\n",
      "  9.99738113e-05 1.00003264e-04]\n",
      " ...\n",
      " [9.99681652e-05 9.99202020e-05 1.00107478e-04 ... 1.00076162e-04\n",
      "  9.99337281e-05 1.00080208e-04]\n",
      " [9.99557014e-05 9.99124459e-05 1.00095196e-04 ... 1.00085366e-04\n",
      "  9.99334297e-05 1.00078512e-04]\n",
      " [9.99586482e-05 9.99022668e-05 1.00116762e-04 ... 1.00067125e-04\n",
      "  9.99346375e-05 1.00066158e-04]], shape=(20, 10000), dtype=float32)\n"
     ]
    }
   ],
   "source": [
    "print(\"The probability of observing words in t=0 to t=20\", output_words_prob[0,0:num_steps])"
   ]
  },
  {
   "cell_type": "markdown",
   "metadata": {},
   "source": [
    "<h3>Prediction</h3>\n",
    "What is the word correspond to the probability output? Lets use the maximum probability:\n"
   ]
  },
  {
   "cell_type": "code",
   "execution_count": 51,
   "metadata": {
    "tags": []
   },
   "outputs": [
    {
     "data": {
      "text/plain": [
       "array([3256, 3256, 3256, 5260, 5260, 5260, 5260, 5260, 4741, 7079, 4461,\n",
       "       4461, 4461, 4461, 5134, 4891, 2906, 2906, 2906, 6895])"
      ]
     },
     "execution_count": 51,
     "metadata": {},
     "output_type": "execute_result"
    }
   ],
   "source": [
    "np.argmax(output_words_prob[0,0:num_steps], axis=1)"
   ]
  },
  {
   "cell_type": "markdown",
   "metadata": {},
   "source": [
    "So, what is the ground truth for the first word of first sentence? You can get it from target tensor, if you want to find the embedding vector: \n"
   ]
  },
  {
   "cell_type": "code",
   "execution_count": 52,
   "metadata": {
    "tags": []
   },
   "outputs": [
    {
     "data": {
      "text/plain": [
       "array([9971, 9972, 9974, 9975, 9976, 9980, 9981, 9982, 9983, 9984, 9986,\n",
       "       9987, 9988, 9989, 9991, 9992, 9993, 9994, 9995, 9996], dtype=int32)"
      ]
     },
     "execution_count": 52,
     "metadata": {},
     "output_type": "execute_result"
    }
   ],
   "source": [
    "_targets[0]"
   ]
  },
  {
   "cell_type": "markdown",
   "metadata": {},
   "source": [
    "<h4>Objective function</h4>\n",
    "\n",
    "\n",
    "How similar the predicted words are to the target words?\n",
    "\n",
    "\n",
    "Now we have to define our objective function, to calculate the similarity of predicted values to ground truth, and then, penalize the model with the error. Our objective is to minimize loss function, that is, to minimize the average negative log probability of the target words:\n",
    "\n",
    "$$\\text{loss} = -\\frac{1}{N}\\sum_{i=1}^{N} \\ln p_{\\text{target}_i}$$\n",
    "\n",
    "This function is already implemented and available in TensorFlow through *tf.keras.losses.sparse_categorical_crossentropy*. It calculates the categorical cross-entropy loss for <b>logits</b> and the <b>target</b> sequence.  \n",
    "\n",
    "The arguments of this function are:  \n",
    "<ul>\n",
    "    <li>logits: List of 2D Tensors of shape [batch_size x num_decoder_symbols].</li>  \n",
    "    <li>targets: List of 1D batch-sized int32 Tensors of the same length as logits.</li>   \n",
    "</ul>\n"
   ]
  },
  {
   "cell_type": "code",
   "execution_count": 53,
   "metadata": {
    "tags": []
   },
   "outputs": [],
   "source": [
    "def crossentropy(y_true, y_pred):\n",
    "    return tf.keras.losses.sparse_categorical_crossentropy(y_true, y_pred)"
   ]
  },
  {
   "cell_type": "code",
   "execution_count": 54,
   "metadata": {
    "tags": []
   },
   "outputs": [],
   "source": [
    "loss  = crossentropy(_targets, output_words_prob)"
   ]
  },
  {
   "cell_type": "markdown",
   "metadata": {},
   "source": [
    "Lets look at the first 10 values of loss:\n"
   ]
  },
  {
   "cell_type": "code",
   "execution_count": 55,
   "metadata": {
    "tags": []
   },
   "outputs": [
    {
     "data": {
      "text/plain": [
       "<tf.Tensor: shape=(10,), dtype=float32, numpy=\n",
       "array([9.210367 , 9.210179 , 9.210378 , 9.210467 , 9.210497 , 9.210118 ,\n",
       "       9.210273 , 9.209922 , 9.2109165, 9.209534 ], dtype=float32)>"
      ]
     },
     "execution_count": 55,
     "metadata": {},
     "output_type": "execute_result"
    }
   ],
   "source": [
    "loss[0,:10]"
   ]
  },
  {
   "cell_type": "markdown",
   "metadata": {},
   "source": [
    "Now, we define cost as average of the losses:\n"
   ]
  },
  {
   "cell_type": "code",
   "execution_count": 56,
   "metadata": {
    "tags": []
   },
   "outputs": [
    {
     "data": {
      "text/plain": [
       "<tf.Tensor: shape=(), dtype=float32, numpy=184.20538>"
      ]
     },
     "execution_count": 56,
     "metadata": {},
     "output_type": "execute_result"
    }
   ],
   "source": [
    "cost = tf.reduce_sum(loss / batch_size)\n",
    "cost"
   ]
  },
  {
   "cell_type": "markdown",
   "metadata": {},
   "source": [
    "<h3>Training</h3>\n",
    "\n",
    "To do training for our network, we have to take the following steps:\n",
    "<ol>\n",
    "    <li>Define the optimizer.</li>\n",
    "    <li>Assemble layers to build model.</li>\n",
    "    <li>Calculate the gradients based on the loss function.</li>\n",
    "    <li>Apply the optimizer to the variables/gradients tuple.</li>\n",
    "</ol>\n"
   ]
  },
  {
   "cell_type": "markdown",
   "metadata": {},
   "source": [
    "<h4>1. Define Optimizer</h4>\n",
    "\n"
   ]
  },
  {
   "cell_type": "code",
   "execution_count": 57,
   "metadata": {
    "tags": []
   },
   "outputs": [
    {
     "name": "stderr",
     "output_type": "stream",
     "text": [
      "/home/jupyterlab/conda/envs/python/lib/python3.7/site-packages/keras/optimizers/optimizer_v2/gradient_descent.py:108: UserWarning: The `lr` argument is deprecated, use `learning_rate` instead.\n",
      "  super(SGD, self).__init__(name, **kwargs)\n"
     ]
    }
   ],
   "source": [
    "# Create a variable for the learning rate\n",
    "lr = tf.Variable(0.0, trainable=False)\n",
    "optimizer = tf.keras.optimizers.SGD(lr=lr, clipnorm=max_grad_norm)"
   ]
  },
  {
   "cell_type": "markdown",
   "metadata": {},
   "source": [
    "<h4>2. Assemble layers to build model.</h4>\n"
   ]
  },
  {
   "cell_type": "code",
   "execution_count": 58,
   "metadata": {
    "tags": []
   },
   "outputs": [
    {
     "name": "stdout",
     "output_type": "stream",
     "text": [
      "Model: \"sequential\"\n",
      "_________________________________________________________________\n",
      " Layer (type)                Output Shape              Param #   \n",
      "=================================================================\n",
      " embedding_vocab (Embedding)  (30, 20, 200)            2000000   \n",
      "                                                                 \n",
      " rnn_1 (RNN)                 (30, 20, 128)             671088    \n",
      "                                                                 \n",
      " dense (Dense)               (30, 20, 10000)           1290000   \n",
      "                                                                 \n",
      " activation (Activation)     (30, 20, 10000)           0         \n",
      "                                                                 \n",
      "=================================================================\n",
      "Total params: 3,961,088\n",
      "Trainable params: 3,955,088\n",
      "Non-trainable params: 6,000\n",
      "_________________________________________________________________\n"
     ]
    }
   ],
   "source": [
    "model = tf.keras.Sequential()\n",
    "model.add(embedding_layer)\n",
    "model.add(layer)\n",
    "model.add(dense)\n",
    "model.add(activation)\n",
    "model.compile(loss=crossentropy, optimizer=optimizer)\n",
    "model.summary()"
   ]
  },
  {
   "cell_type": "markdown",
   "metadata": {},
   "source": [
    "\n",
    "<h4>2. Trainable Variables</h4>\n"
   ]
  },
  {
   "cell_type": "markdown",
   "metadata": {},
   "source": [
    "Defining a variable, if you passed <i>trainable=True</i>, the variable constructor automatically adds new variables to the graph collection <b>GraphKeys.TRAINABLE_VARIABLES</b>. Now, using <i>tf.trainable_variables()</i> you can get all variables created with <b>trainable=True</b>.\n"
   ]
  },
  {
   "cell_type": "code",
   "execution_count": 59,
   "metadata": {
    "tags": []
   },
   "outputs": [],
   "source": [
    "# Get all TensorFlow variables marked as \"trainable\" (i.e. all of them except _lr, which we just created)\n",
    "tvars = model.trainable_variables"
   ]
  },
  {
   "cell_type": "markdown",
   "metadata": {},
   "source": [
    "Note: we can find the name and scope of all variables:\n"
   ]
  },
  {
   "cell_type": "code",
   "execution_count": 60,
   "metadata": {
    "tags": []
   },
   "outputs": [
    {
     "data": {
      "text/plain": [
       "['embedding_vocab/embeddings:0',\n",
       " 'rnn_1/stacked_rnn_cells_1/lstm_cell_2/kernel:0',\n",
       " 'rnn_1/stacked_rnn_cells_1/lstm_cell_2/recurrent_kernel:0',\n",
       " 'rnn_1/stacked_rnn_cells_1/lstm_cell_2/bias:0',\n",
       " 'rnn_1/stacked_rnn_cells_1/lstm_cell_3/kernel:0',\n",
       " 'rnn_1/stacked_rnn_cells_1/lstm_cell_3/recurrent_kernel:0',\n",
       " 'rnn_1/stacked_rnn_cells_1/lstm_cell_3/bias:0',\n",
       " 'dense/kernel:0',\n",
       " 'dense/bias:0']"
      ]
     },
     "execution_count": 60,
     "metadata": {},
     "output_type": "execute_result"
    }
   ],
   "source": [
    "[v.name for v in tvars] "
   ]
  },
  {
   "cell_type": "markdown",
   "metadata": {},
   "source": [
    "<h4>3. Calculate the gradients based on the loss function</h4>\n"
   ]
  },
  {
   "cell_type": "markdown",
   "metadata": {},
   "source": [
    "**Gradient**: The gradient of a function is the slope of its derivative (line), or in other words, the rate of change of a function. It's a vector (a direction to move) that points in the direction of greatest increase of the function, and calculated by the <b>derivative</b> operation.\n"
   ]
  },
  {
   "cell_type": "markdown",
   "metadata": {},
   "source": [
    "First lets recall the gradient function using an toy example:\n",
    "$$ z = \\left(2x^2 + 3xy\\right)$$\n"
   ]
  },
  {
   "cell_type": "code",
   "execution_count": 61,
   "metadata": {
    "tags": []
   },
   "outputs": [],
   "source": [
    "x = tf.constant(1.0)\n",
    "y =  tf.constant(2.0)\n",
    "with tf.GradientTape(persistent=True) as g:\n",
    "    g.watch(x)\n",
    "    g.watch(y)\n",
    "    func_test = 2 * x * x + 3 * x * y"
   ]
  },
  {
   "cell_type": "markdown",
   "metadata": {},
   "source": [
    "The <b>tf.gradients()</b> function allows you to compute the symbolic gradient of one tensor with respect to one or more other tensors—including variables. <b>tf.gradients(func, xs)</b> constructs symbolic partial derivatives of sum of <b>func</b> w.r.t. <i>x</i> in <b>xs</b>. \n",
    "\n",
    "Now, lets look at the derivitive w.r.t. <b>var_x</b>:\n",
    "$$ \\frac{\\partial \\:}{\\partial \\:x}\\left(2x^2 + 3xy\\right) = 4x + 3y $$\n"
   ]
  },
  {
   "cell_type": "code",
   "execution_count": 62,
   "metadata": {
    "tags": []
   },
   "outputs": [
    {
     "name": "stdout",
     "output_type": "stream",
     "text": [
      "tf.Tensor(10.0, shape=(), dtype=float32)\n"
     ]
    }
   ],
   "source": [
    "var_grad = g.gradient(func_test, x) # Will compute to 10.0\n",
    "print(var_grad)"
   ]
  },
  {
   "cell_type": "markdown",
   "metadata": {},
   "source": [
    "the derivative w.r.t. <b>var_y</b>:\n",
    "$$ \\frac{\\partial \\:}{\\partial \\:y}\\left(2x^2 + 3xy\\right) = 3x $$\n"
   ]
  },
  {
   "cell_type": "code",
   "execution_count": 63,
   "metadata": {
    "tags": []
   },
   "outputs": [
    {
     "name": "stdout",
     "output_type": "stream",
     "text": [
      "tf.Tensor(3.0, shape=(), dtype=float32)\n"
     ]
    }
   ],
   "source": [
    "var_grad = g.gradient(func_test, y) # Will compute to 3.0\n",
    "print(var_grad)"
   ]
  },
  {
   "cell_type": "markdown",
   "metadata": {},
   "source": [
    "Now, we can look at gradients w.r.t all variables:\n"
   ]
  },
  {
   "cell_type": "code",
   "execution_count": 64,
   "metadata": {
    "tags": []
   },
   "outputs": [],
   "source": [
    "with tf.GradientTape() as tape:\n",
    "    # Forward pass.\n",
    "    output_words_prob = model(_input_data)\n",
    "    # Loss value for this batch.\n",
    "    loss  = crossentropy(_targets, output_words_prob)\n",
    "    cost = tf.reduce_sum(loss,axis=0) / batch_size"
   ]
  },
  {
   "cell_type": "code",
   "execution_count": 65,
   "metadata": {
    "tags": []
   },
   "outputs": [],
   "source": [
    "# Get gradients of loss wrt the trainable variables.\n",
    "grad_t_list = tape.gradient(cost, tvars)"
   ]
  },
  {
   "cell_type": "code",
   "execution_count": 66,
   "metadata": {
    "tags": []
   },
   "outputs": [
    {
     "name": "stdout",
     "output_type": "stream",
     "text": [
      "[<tensorflow.python.framework.indexed_slices.IndexedSlices object at 0x7f7e3d645190>, <tf.Tensor: shape=(200, 1024), dtype=float32, numpy=\n",
      "array([[-1.80145037e-07, -1.08452213e-07, -3.16427617e-07, ...,\n",
      "         1.57554553e-07, -1.20748979e-07, -1.77296670e-07],\n",
      "       [ 2.77761472e-07, -2.02443772e-07, -1.14471632e-07, ...,\n",
      "        -2.42947237e-07, -2.07164760e-07,  1.54691094e-07],\n",
      "       [-2.06263095e-07,  3.87508265e-08, -3.27121882e-07, ...,\n",
      "         1.83246783e-07,  1.57892700e-07,  2.33503670e-07],\n",
      "       ...,\n",
      "       [-3.30043974e-08,  4.02062227e-07, -1.45637628e-07, ...,\n",
      "         3.98453324e-07, -1.45915322e-07,  1.98352140e-07],\n",
      "       [-1.06375076e-07,  2.54813415e-08,  2.96778495e-07, ...,\n",
      "         4.00902849e-08,  2.28519355e-07, -3.96324623e-07],\n",
      "       [-2.78620576e-07,  1.68825238e-07,  5.36389393e-07, ...,\n",
      "         3.70892451e-07, -2.86977127e-08, -8.53127915e-08]], dtype=float32)>, <tf.Tensor: shape=(256, 1024), dtype=float32, numpy=\n",
      "array([[ 1.9853815e-08, -6.4858014e-08, -2.0219873e-07, ...,\n",
      "        -6.9122436e-08, -2.8189112e-07,  1.9515025e-07],\n",
      "       [ 1.1912582e-07, -2.9621063e-08, -3.8444700e-08, ...,\n",
      "         8.5860563e-08, -6.4318257e-08,  2.8779375e-08],\n",
      "       [ 1.1501723e-07, -5.4769778e-08,  1.5908386e-08, ...,\n",
      "        -3.9577905e-08, -1.0362905e-07,  1.3840719e-07],\n",
      "       ...,\n",
      "       [ 5.0046737e-08,  1.4715795e-08, -8.5804835e-08, ...,\n",
      "         1.4429668e-07, -2.1296177e-07,  1.0788919e-07],\n",
      "       [ 1.5396705e-07, -5.7022500e-08,  8.6345636e-08, ...,\n",
      "         7.0166720e-08,  3.3810444e-08, -1.2536057e-07],\n",
      "       [ 1.4700410e-07,  3.1342637e-08, -1.7354321e-07, ...,\n",
      "        -2.6265315e-07, -5.2777693e-09,  2.7246125e-07]], dtype=float32)>, <tf.Tensor: shape=(1024,), dtype=float32, numpy=\n",
      "array([ 2.1282467e-06, -2.5466341e-06, -1.5542803e-06, ...,\n",
      "       -3.6821812e-06,  2.3830295e-05,  2.4986550e-06], dtype=float32)>, <tf.Tensor: shape=(256, 512), dtype=float32, numpy=\n",
      "array([[-6.75298111e-07, -1.41114285e-08, -2.51833683e-07, ...,\n",
      "         1.19972952e-07, -6.22914513e-07,  1.98400727e-07],\n",
      "       [-6.48186301e-07, -8.22424582e-08,  1.19506410e-07, ...,\n",
      "         1.14532686e-08, -3.58498511e-07,  1.78953485e-07],\n",
      "       [-4.73842334e-07, -5.56255273e-08, -1.45132262e-07, ...,\n",
      "         1.90848596e-07, -1.59178946e-08, -2.51340481e-07],\n",
      "       ...,\n",
      "       [-3.57861580e-07, -9.36962579e-08, -1.46587041e-07, ...,\n",
      "        -7.15318365e-08,  1.51234374e-07,  2.88789465e-07],\n",
      "       [ 1.93615463e-07,  1.23023781e-07, -1.50318016e-08, ...,\n",
      "        -2.33015584e-07,  2.23826191e-07,  1.93076005e-07],\n",
      "       [-5.44096359e-08,  3.05652286e-08, -2.18546631e-07, ...,\n",
      "        -3.26288330e-10, -2.45092281e-07,  1.93859464e-07]], dtype=float32)>, <tf.Tensor: shape=(128, 512), dtype=float32, numpy=\n",
      "array([[ 7.3333382e-07, -8.7684114e-08, -1.0382648e-07, ...,\n",
      "         7.1817837e-08,  2.0468065e-07, -1.2404339e-08],\n",
      "       [ 6.9876094e-08, -1.0031170e-07,  7.0843619e-08, ...,\n",
      "         1.1636869e-07, -4.2729138e-08,  1.4503648e-08],\n",
      "       [ 2.7872261e-07,  1.4646444e-08, -1.4254248e-07, ...,\n",
      "         9.3302688e-08,  3.5831803e-07, -9.3521457e-10],\n",
      "       ...,\n",
      "       [-8.0253230e-08, -3.7799875e-08, -2.3245709e-08, ...,\n",
      "        -2.2576459e-07, -7.1595657e-08,  1.7331902e-07],\n",
      "       [ 2.4572896e-07,  4.5349154e-08,  1.3565663e-07, ...,\n",
      "        -2.4206692e-08,  7.3446063e-07,  2.9620267e-08],\n",
      "       [ 1.5232111e-08, -3.4126650e-08, -2.0329949e-07, ...,\n",
      "         1.2096264e-07, -3.3904286e-07, -3.9727368e-08]], dtype=float32)>, <tf.Tensor: shape=(512,), dtype=float32, numpy=\n",
      "array([ 3.41337582e-05,  8.93079459e-07,  3.42463863e-05, -2.73006685e-06,\n",
      "        2.03147829e-05,  1.25741799e-05,  6.83656071e-06, -2.03608724e-05,\n",
      "       -9.37633649e-06,  6.53010648e-05,  7.26312574e-05,  1.84033033e-05,\n",
      "       -1.47167857e-05,  3.07809132e-05,  1.82940894e-05, -7.73369611e-05,\n",
      "       -1.10733119e-04, -4.97655783e-05,  9.04516128e-06, -4.73302935e-05,\n",
      "        6.46605986e-05,  1.93465585e-05, -1.21590256e-06,  3.54562435e-05,\n",
      "       -9.48905927e-06,  7.05053117e-06, -5.72950103e-06, -4.83116310e-05,\n",
      "        3.87209802e-05,  5.10645259e-06, -2.47191065e-06, -3.02055087e-05,\n",
      "       -6.52832168e-05, -7.54314024e-05, -5.18313936e-06,  6.60342266e-06,\n",
      "       -3.38309073e-05, -2.75933307e-05, -5.03727133e-05, -8.77011553e-06,\n",
      "        5.07784207e-05, -5.67830330e-06,  5.57698513e-06,  1.63376581e-06,\n",
      "        2.93808516e-05, -1.88780941e-05,  3.98036864e-05, -6.82920145e-05,\n",
      "        1.35189684e-05, -2.04415046e-05,  8.72750934e-06, -3.47641289e-05,\n",
      "        1.88123649e-05, -1.94805398e-06, -2.36425512e-05,  3.79772355e-05,\n",
      "       -6.81677557e-05, -2.25322547e-05,  1.19213000e-05,  1.96169985e-05,\n",
      "       -6.51493538e-05,  6.48153582e-05,  1.09001485e-06,  3.51929993e-05,\n",
      "       -3.90436180e-05,  7.84428084e-06, -8.64364702e-05, -1.19576889e-05,\n",
      "       -7.39371608e-05, -1.16841238e-05, -5.33059938e-05, -6.10248844e-06,\n",
      "       -4.07955522e-05,  2.63585025e-05, -3.23103523e-05, -1.08776148e-05,\n",
      "        5.37944870e-05, -1.67934941e-05,  7.14778707e-06, -1.73459575e-05,\n",
      "        2.24016330e-05,  2.84628859e-05,  1.20180284e-05, -1.58262101e-05,\n",
      "       -1.79205999e-05, -5.32093236e-06, -3.57495287e-06, -4.31620574e-05,\n",
      "        3.98919292e-05, -5.01127724e-05, -5.32917838e-05,  3.50245409e-06,\n",
      "       -1.74027628e-05,  2.21846203e-05, -1.48596100e-05,  1.84318960e-05,\n",
      "        5.86500482e-06, -1.93594224e-06,  2.44324929e-06, -2.56189232e-05,\n",
      "       -4.78767515e-06,  5.26638323e-05, -9.71397549e-06, -1.44490259e-05,\n",
      "        1.02921749e-05, -3.37085148e-05, -5.65545051e-05, -1.16670690e-05,\n",
      "        1.96191813e-05, -6.66544702e-06, -2.99584499e-05, -8.62521210e-06,\n",
      "       -1.25457636e-05,  1.04210485e-05, -2.30569603e-05, -7.20960234e-05,\n",
      "       -2.02483207e-05,  1.91909239e-05, -2.03144282e-05, -1.74618181e-05,\n",
      "       -5.63732538e-05, -7.72369185e-06, -1.46695465e-05, -9.25987570e-06,\n",
      "       -4.80681192e-05, -1.81474898e-05,  1.30170920e-05, -2.16174631e-05,\n",
      "        1.94077420e-05, -2.00495833e-06,  5.78716354e-05, -2.65545350e-05,\n",
      "        2.15834552e-05, -1.36315430e-06,  1.07168307e-05, -3.23492677e-05,\n",
      "       -9.97888674e-06,  1.09029701e-04,  8.70883887e-05,  2.07646626e-05,\n",
      "       -4.83531621e-05,  5.39731409e-05, -6.07814945e-06, -8.44843162e-05,\n",
      "       -1.24611281e-04, -6.60478472e-05,  3.06357742e-06, -5.13742489e-05,\n",
      "        8.57829727e-05,  5.27658376e-05,  2.87908169e-05,  2.26642242e-05,\n",
      "        7.85237171e-06,  2.48209144e-05,  2.17840625e-06, -5.44101713e-05,\n",
      "        3.15686157e-05,  1.61765747e-05, -1.99906772e-05, -6.26838155e-05,\n",
      "       -8.43915041e-05, -9.15573619e-05, -1.71515876e-05, -3.77923279e-05,\n",
      "       -2.73819733e-05, -5.52256897e-05, -8.94672849e-05,  5.87184877e-06,\n",
      "        8.55871040e-05, -3.14974250e-06, -3.85145540e-06,  9.16686986e-06,\n",
      "        2.64529554e-05, -1.46867351e-05,  3.02812496e-05, -9.17229190e-05,\n",
      "        2.56046133e-05, -3.18336897e-05,  3.97897020e-05, -2.01118928e-05,\n",
      "        2.87965067e-05,  6.44853480e-06, -3.72205795e-05,  6.74831608e-05,\n",
      "       -9.25235217e-05, -1.87093101e-05,  1.67533676e-06,  3.08162344e-05,\n",
      "       -3.73103576e-05,  9.59677272e-05,  2.20427646e-05,  2.37698041e-05,\n",
      "       -4.56542039e-05,  1.19449851e-07, -1.31577879e-04, -2.05372453e-05,\n",
      "       -7.31181790e-05,  2.71523095e-05, -9.61443366e-05,  1.45774966e-05,\n",
      "       -7.44883655e-05,  4.01365614e-05, -5.54774779e-05, -7.39536881e-06,\n",
      "        4.53383764e-05, -4.20748620e-07,  1.17548752e-05, -4.11144647e-05,\n",
      "        3.03004817e-05,  6.17519836e-05, -5.61076831e-06, -3.08844528e-06,\n",
      "       -3.10599989e-06,  1.86175089e-06, -1.10892506e-05, -6.56892807e-05,\n",
      "        7.12876426e-05, -7.28110172e-05, -6.33133750e-05, -5.42028101e-06,\n",
      "       -3.70660928e-05,  4.13451162e-05, -2.04285225e-05, -8.76887952e-06,\n",
      "        2.58512046e-06, -4.00837052e-06,  2.64922965e-05, -4.34313006e-05,\n",
      "        7.82511688e-06,  8.20234200e-05, -1.09543112e-06, -5.16630098e-06,\n",
      "        1.67306407e-05, -3.43221909e-05, -5.79293192e-05, -1.11035315e-05,\n",
      "        1.47495120e-05,  4.38202624e-05, -3.35789082e-05, -2.98279429e-05,\n",
      "        3.35204959e-06,  3.58105535e-06, -4.48762512e-05, -1.09382221e-04,\n",
      "       -2.95059399e-05,  4.15046925e-05, -2.10519574e-05,  2.40298868e-06,\n",
      "       -9.34427444e-05, -5.73261932e-05,  1.75188543e-05, -4.38280840e-05,\n",
      "       -6.49327194e-05, -1.87630594e-05,  4.11337678e-05, -1.59453357e-05,\n",
      "        8.99427384e-02, -3.73431249e-03,  1.22519443e-03, -1.47689469e-02,\n",
      "       -9.43273306e-03, -8.28395970e-03, -1.04515245e-02, -1.84725095e-02,\n",
      "       -7.30266375e-03, -3.33151370e-02, -4.25997898e-02,  7.09333736e-03,\n",
      "        1.79272629e-02, -2.01862454e-02,  1.15753179e-02, -1.57047510e-02,\n",
      "        7.10016191e-02, -2.94279475e-02,  6.20932505e-03, -1.28484908e-02,\n",
      "        2.38030031e-02,  4.62664180e-02,  8.27148836e-03, -1.74823515e-02,\n",
      "        4.84662950e-02, -3.11656576e-02, -7.96845742e-03, -2.53402330e-02,\n",
      "        5.77125996e-02, -6.04896666e-03, -2.01545432e-02, -1.37241520e-02,\n",
      "       -2.49978416e-02, -1.46922637e-02,  1.31583698e-02, -4.29964857e-03,\n",
      "       -4.72871438e-02, -1.47617357e-02,  1.84361003e-02,  3.25854262e-03,\n",
      "       -5.42399213e-02, -1.07326433e-02,  6.38939440e-03,  5.05871959e-02,\n",
      "        7.95925315e-03,  3.12980786e-02,  1.51817575e-02,  2.41269879e-02,\n",
      "       -1.35548068e-02,  1.13642756e-02, -7.67132966e-03,  4.04768325e-02,\n",
      "       -1.49488617e-02,  5.77217620e-03, -3.90688889e-04, -1.16641894e-02,\n",
      "        2.34872028e-02, -3.06468159e-02,  2.95394920e-02, -1.13168210e-02,\n",
      "        1.77568439e-02,  2.88932063e-02, -6.83382340e-03,  2.08006259e-02,\n",
      "       -1.19059309e-02,  1.67410774e-03, -4.19359393e-02, -1.10055329e-02,\n",
      "        4.81684320e-02, -7.18237925e-03,  1.19825359e-02,  2.60249525e-03,\n",
      "       -3.09111476e-02, -8.65919515e-04,  8.69230274e-03, -7.89423648e-04,\n",
      "        3.88848111e-02,  5.05010113e-02, -2.59308517e-02,  2.00575981e-02,\n",
      "        7.93775078e-03,  5.27915247e-02, -5.01188356e-03,  1.84434410e-02,\n",
      "        3.28995958e-02, -2.15907693e-02, -5.35617135e-02,  2.77129486e-02,\n",
      "        1.69860236e-02, -4.14238647e-02,  7.36819673e-03, -1.13005582e-02,\n",
      "       -1.47526506e-02, -2.67428644e-02, -1.15935656e-03,  1.65460110e-02,\n",
      "        3.42584401e-03,  2.36944370e-02,  6.30637035e-02,  2.25563683e-02,\n",
      "       -3.03847417e-02, -4.45568711e-02,  3.02630849e-03,  6.26634201e-03,\n",
      "        2.32463237e-03, -1.06843570e-02, -3.23195457e-02,  3.44769880e-02,\n",
      "        3.05718780e-02, -2.07229448e-03, -1.01499017e-02, -5.61440550e-03,\n",
      "       -2.80462950e-03,  7.57902255e-03, -2.15464085e-03, -2.52589956e-02,\n",
      "       -7.61252688e-03, -1.71111673e-02, -5.07909991e-03, -2.73379963e-02,\n",
      "       -2.97413655e-02, -2.13662814e-03, -1.01646362e-02, -1.10190082e-02,\n",
      "       -5.22285774e-02, -3.43167456e-03,  3.32293510e-02,  7.77566712e-03,\n",
      "        3.17038648e-05,  6.45004548e-08,  3.15286015e-05, -4.75923116e-06,\n",
      "        1.62899851e-05,  7.54595749e-06,  1.47234750e-05, -1.86474426e-05,\n",
      "       -9.27235851e-06,  7.87465251e-05,  8.14576779e-05,  1.98818234e-05,\n",
      "       -1.71960601e-05,  3.35837321e-05,  1.85548506e-05, -8.03914882e-05,\n",
      "       -1.31307432e-04, -6.08583287e-05,  9.51766197e-06, -4.00022036e-05,\n",
      "        7.24541460e-05,  1.50335172e-05,  4.95673521e-06,  3.34426513e-05,\n",
      "       -1.22532865e-05,  2.31238300e-06, -3.18353796e-06, -5.12336628e-05,\n",
      "        4.17028823e-05,  1.86387661e-06, -7.84223084e-06, -4.14015958e-05,\n",
      "       -7.15347633e-05, -7.99141126e-05, -5.18775187e-06, -1.28407228e-05,\n",
      "       -3.34843244e-05, -3.20898616e-05, -5.69907861e-05, -2.47129101e-05,\n",
      "        5.09383972e-05, -5.11119015e-06,  1.61530661e-05,  1.80898041e-06,\n",
      "        3.66790082e-05, -2.41538728e-05,  3.58370380e-05, -7.65203222e-05,\n",
      "        1.91602630e-05, -1.89534949e-05,  6.34083426e-06, -3.58033394e-05,\n",
      "        2.24959185e-05,  7.13635563e-06, -1.71019310e-05,  2.68280073e-05,\n",
      "       -7.98281835e-05, -1.85307035e-05,  6.32167621e-06,  2.30806181e-05,\n",
      "       -6.81523525e-05,  8.01413335e-05,  6.48657897e-06,  2.76566971e-05,\n",
      "       -4.03878475e-05,  1.36100352e-05, -8.16210013e-05, -1.43631423e-05,\n",
      "       -7.06920982e-05, -1.24798680e-06, -6.28965354e-05, -5.82718894e-06,\n",
      "       -5.12122388e-05,  3.85076055e-05, -3.08421440e-05, -9.00868054e-06,\n",
      "        5.26973963e-05, -2.06475452e-05,  1.30083172e-05, -1.84221080e-05,\n",
      "        3.09719071e-05,  3.14076788e-05,  1.32928344e-05, -1.58459006e-05,\n",
      "       -1.15902803e-05, -7.38567906e-06, -4.89855120e-06, -4.82706455e-05,\n",
      "        4.33047826e-05, -5.92401448e-05, -6.09726048e-05,  1.10698038e-05,\n",
      "       -1.66359987e-05,  2.20682377e-05, -1.87358237e-05,  2.37118311e-05,\n",
      "        4.94360211e-06, -4.29087322e-06,  3.63963545e-06, -2.00689574e-05,\n",
      "       -1.08558170e-05,  7.92545034e-05, -1.14589639e-05, -1.33756339e-05,\n",
      "        5.27075281e-06, -2.02425254e-05, -5.44633804e-05, -8.39764016e-06,\n",
      "        1.34598104e-05, -3.83571341e-06, -3.48956310e-05, -1.32521564e-05,\n",
      "       -9.93323101e-06,  2.05375582e-05, -3.54463300e-05, -8.44435126e-05,\n",
      "       -1.34626307e-05,  2.25326603e-05, -2.41329999e-05, -1.68977786e-05,\n",
      "       -6.88407890e-05, -2.41895777e-05, -8.70757412e-06, -1.46690600e-05,\n",
      "       -4.81718234e-05, -2.35490879e-05,  2.56951571e-05, -2.09890586e-05],\n",
      "      dtype=float32)>, <tf.Tensor: shape=(128, 10000), dtype=float32, numpy=\n",
      "array([[-1.72682747e-04, -1.15843525e-03,  7.65493460e-05, ...,\n",
      "        -2.03681424e-07, -2.03416221e-07, -2.03443989e-07],\n",
      "       [ 7.55918678e-04,  2.45761112e-05,  1.01027626e-03, ...,\n",
      "        -5.87425006e-07, -5.87155682e-07, -5.86996066e-07],\n",
      "       [ 5.79795975e-04,  2.05784541e-04,  1.16242474e-04, ...,\n",
      "        -1.38248697e-06, -1.38216660e-06, -1.38178109e-06],\n",
      "       ...,\n",
      "       [-6.72767637e-05,  1.05069543e-04,  7.31454114e-04, ...,\n",
      "        -1.30229751e-07, -1.28369038e-07, -1.28902570e-07],\n",
      "       [-2.67207331e-04, -7.92436709e-04, -7.12566194e-04, ...,\n",
      "         1.51248969e-07,  1.52121785e-07,  1.51194428e-07],\n",
      "       [ 1.93969905e-03,  3.85054783e-03,  1.92826695e-03, ...,\n",
      "        -4.37765402e-06, -4.37893505e-06, -4.37613517e-06]], dtype=float32)>, <tf.Tensor: shape=(10000,), dtype=float32, numpy=\n",
      "array([-0.79799825, -1.0313315 , -1.0313312 , ...,  0.00199944,\n",
      "        0.00199968,  0.00199865], dtype=float32)>]\n"
     ]
    }
   ],
   "source": [
    "print(grad_t_list)"
   ]
  },
  {
   "cell_type": "markdown",
   "metadata": {},
   "source": [
    "\n",
    "\n",
    "\n",
    "now, we have a list of tensors, t-list. We can use it to find clipped tensors. <b>clip_by_global_norm</b> clips values of multiple tensors by the ratio of the sum of their norms.\n",
    "\n",
    "<b>clip_by_global_norm</b> get <i>t-list</i> as input and returns 2 things:\n",
    "<ul>\n",
    "    <li>a list of clipped tensors, so called <i>list_clipped</i></li> \n",
    "    <li>the global norm (global_norm) of all tensors in t_list</li> \n",
    "</ul>\n"
   ]
  },
  {
   "cell_type": "code",
   "execution_count": 67,
   "metadata": {
    "tags": []
   },
   "outputs": [
    {
     "data": {
      "text/plain": [
       "[<tensorflow.python.framework.indexed_slices.IndexedSlices at 0x7f7e3d671090>,\n",
       " <tf.Tensor: shape=(200, 1024), dtype=float32, numpy=\n",
       " array([[-1.80145037e-07, -1.08452213e-07, -3.16427617e-07, ...,\n",
       "          1.57554553e-07, -1.20748979e-07, -1.77296670e-07],\n",
       "        [ 2.77761472e-07, -2.02443772e-07, -1.14471632e-07, ...,\n",
       "         -2.42947237e-07, -2.07164760e-07,  1.54691094e-07],\n",
       "        [-2.06263095e-07,  3.87508265e-08, -3.27121882e-07, ...,\n",
       "          1.83246783e-07,  1.57892700e-07,  2.33503670e-07],\n",
       "        ...,\n",
       "        [-3.30043974e-08,  4.02062227e-07, -1.45637628e-07, ...,\n",
       "          3.98453324e-07, -1.45915322e-07,  1.98352140e-07],\n",
       "        [-1.06375076e-07,  2.54813415e-08,  2.96778495e-07, ...,\n",
       "          4.00902849e-08,  2.28519355e-07, -3.96324623e-07],\n",
       "        [-2.78620576e-07,  1.68825238e-07,  5.36389393e-07, ...,\n",
       "          3.70892451e-07, -2.86977127e-08, -8.53127915e-08]], dtype=float32)>,\n",
       " <tf.Tensor: shape=(256, 1024), dtype=float32, numpy=\n",
       " array([[ 1.9853815e-08, -6.4858014e-08, -2.0219873e-07, ...,\n",
       "         -6.9122436e-08, -2.8189112e-07,  1.9515025e-07],\n",
       "        [ 1.1912582e-07, -2.9621063e-08, -3.8444700e-08, ...,\n",
       "          8.5860563e-08, -6.4318257e-08,  2.8779375e-08],\n",
       "        [ 1.1501723e-07, -5.4769778e-08,  1.5908386e-08, ...,\n",
       "         -3.9577905e-08, -1.0362905e-07,  1.3840719e-07],\n",
       "        ...,\n",
       "        [ 5.0046737e-08,  1.4715795e-08, -8.5804835e-08, ...,\n",
       "          1.4429668e-07, -2.1296177e-07,  1.0788919e-07],\n",
       "        [ 1.5396705e-07, -5.7022500e-08,  8.6345636e-08, ...,\n",
       "          7.0166720e-08,  3.3810444e-08, -1.2536057e-07],\n",
       "        [ 1.4700410e-07,  3.1342637e-08, -1.7354321e-07, ...,\n",
       "         -2.6265315e-07, -5.2777693e-09,  2.7246125e-07]], dtype=float32)>,\n",
       " <tf.Tensor: shape=(1024,), dtype=float32, numpy=\n",
       " array([ 2.1282467e-06, -2.5466341e-06, -1.5542803e-06, ...,\n",
       "        -3.6821812e-06,  2.3830295e-05,  2.4986550e-06], dtype=float32)>,\n",
       " <tf.Tensor: shape=(256, 512), dtype=float32, numpy=\n",
       " array([[-6.75298111e-07, -1.41114285e-08, -2.51833683e-07, ...,\n",
       "          1.19972952e-07, -6.22914513e-07,  1.98400727e-07],\n",
       "        [-6.48186301e-07, -8.22424582e-08,  1.19506410e-07, ...,\n",
       "          1.14532686e-08, -3.58498511e-07,  1.78953485e-07],\n",
       "        [-4.73842334e-07, -5.56255273e-08, -1.45132262e-07, ...,\n",
       "          1.90848596e-07, -1.59178946e-08, -2.51340481e-07],\n",
       "        ...,\n",
       "        [-3.57861580e-07, -9.36962579e-08, -1.46587041e-07, ...,\n",
       "         -7.15318365e-08,  1.51234374e-07,  2.88789465e-07],\n",
       "        [ 1.93615463e-07,  1.23023781e-07, -1.50318016e-08, ...,\n",
       "         -2.33015584e-07,  2.23826191e-07,  1.93076005e-07],\n",
       "        [-5.44096359e-08,  3.05652286e-08, -2.18546631e-07, ...,\n",
       "         -3.26288330e-10, -2.45092281e-07,  1.93859464e-07]], dtype=float32)>,\n",
       " <tf.Tensor: shape=(128, 512), dtype=float32, numpy=\n",
       " array([[ 7.3333382e-07, -8.7684114e-08, -1.0382648e-07, ...,\n",
       "          7.1817837e-08,  2.0468065e-07, -1.2404339e-08],\n",
       "        [ 6.9876094e-08, -1.0031170e-07,  7.0843619e-08, ...,\n",
       "          1.1636869e-07, -4.2729138e-08,  1.4503648e-08],\n",
       "        [ 2.7872261e-07,  1.4646444e-08, -1.4254248e-07, ...,\n",
       "          9.3302688e-08,  3.5831803e-07, -9.3521457e-10],\n",
       "        ...,\n",
       "        [-8.0253230e-08, -3.7799875e-08, -2.3245709e-08, ...,\n",
       "         -2.2576459e-07, -7.1595657e-08,  1.7331902e-07],\n",
       "        [ 2.4572896e-07,  4.5349154e-08,  1.3565663e-07, ...,\n",
       "         -2.4206692e-08,  7.3446063e-07,  2.9620267e-08],\n",
       "        [ 1.5232111e-08, -3.4126650e-08, -2.0329949e-07, ...,\n",
       "          1.2096264e-07, -3.3904286e-07, -3.9727368e-08]], dtype=float32)>,\n",
       " <tf.Tensor: shape=(512,), dtype=float32, numpy=\n",
       " array([ 3.41337582e-05,  8.93079459e-07,  3.42463863e-05, -2.73006685e-06,\n",
       "         2.03147829e-05,  1.25741799e-05,  6.83656071e-06, -2.03608724e-05,\n",
       "        -9.37633649e-06,  6.53010648e-05,  7.26312574e-05,  1.84033033e-05,\n",
       "        -1.47167857e-05,  3.07809132e-05,  1.82940894e-05, -7.73369611e-05,\n",
       "        -1.10733119e-04, -4.97655783e-05,  9.04516128e-06, -4.73302935e-05,\n",
       "         6.46605986e-05,  1.93465585e-05, -1.21590256e-06,  3.54562435e-05,\n",
       "        -9.48905927e-06,  7.05053117e-06, -5.72950103e-06, -4.83116310e-05,\n",
       "         3.87209802e-05,  5.10645259e-06, -2.47191065e-06, -3.02055087e-05,\n",
       "        -6.52832168e-05, -7.54314024e-05, -5.18313936e-06,  6.60342266e-06,\n",
       "        -3.38309073e-05, -2.75933307e-05, -5.03727133e-05, -8.77011553e-06,\n",
       "         5.07784207e-05, -5.67830330e-06,  5.57698513e-06,  1.63376581e-06,\n",
       "         2.93808516e-05, -1.88780941e-05,  3.98036864e-05, -6.82920145e-05,\n",
       "         1.35189684e-05, -2.04415046e-05,  8.72750934e-06, -3.47641289e-05,\n",
       "         1.88123649e-05, -1.94805398e-06, -2.36425512e-05,  3.79772355e-05,\n",
       "        -6.81677557e-05, -2.25322547e-05,  1.19213000e-05,  1.96169985e-05,\n",
       "        -6.51493538e-05,  6.48153582e-05,  1.09001485e-06,  3.51929993e-05,\n",
       "        -3.90436180e-05,  7.84428084e-06, -8.64364702e-05, -1.19576889e-05,\n",
       "        -7.39371608e-05, -1.16841238e-05, -5.33059938e-05, -6.10248844e-06,\n",
       "        -4.07955522e-05,  2.63585025e-05, -3.23103523e-05, -1.08776148e-05,\n",
       "         5.37944870e-05, -1.67934941e-05,  7.14778707e-06, -1.73459575e-05,\n",
       "         2.24016330e-05,  2.84628859e-05,  1.20180284e-05, -1.58262101e-05,\n",
       "        -1.79205999e-05, -5.32093236e-06, -3.57495287e-06, -4.31620574e-05,\n",
       "         3.98919292e-05, -5.01127724e-05, -5.32917838e-05,  3.50245409e-06,\n",
       "        -1.74027628e-05,  2.21846203e-05, -1.48596100e-05,  1.84318960e-05,\n",
       "         5.86500482e-06, -1.93594224e-06,  2.44324929e-06, -2.56189232e-05,\n",
       "        -4.78767515e-06,  5.26638323e-05, -9.71397549e-06, -1.44490259e-05,\n",
       "         1.02921749e-05, -3.37085148e-05, -5.65545051e-05, -1.16670690e-05,\n",
       "         1.96191813e-05, -6.66544702e-06, -2.99584499e-05, -8.62521210e-06,\n",
       "        -1.25457636e-05,  1.04210485e-05, -2.30569603e-05, -7.20960234e-05,\n",
       "        -2.02483207e-05,  1.91909239e-05, -2.03144282e-05, -1.74618181e-05,\n",
       "        -5.63732538e-05, -7.72369185e-06, -1.46695465e-05, -9.25987570e-06,\n",
       "        -4.80681192e-05, -1.81474898e-05,  1.30170920e-05, -2.16174631e-05,\n",
       "         1.94077420e-05, -2.00495833e-06,  5.78716354e-05, -2.65545350e-05,\n",
       "         2.15834552e-05, -1.36315430e-06,  1.07168307e-05, -3.23492677e-05,\n",
       "        -9.97888674e-06,  1.09029701e-04,  8.70883887e-05,  2.07646626e-05,\n",
       "        -4.83531621e-05,  5.39731409e-05, -6.07814945e-06, -8.44843162e-05,\n",
       "        -1.24611281e-04, -6.60478472e-05,  3.06357742e-06, -5.13742489e-05,\n",
       "         8.57829727e-05,  5.27658376e-05,  2.87908169e-05,  2.26642242e-05,\n",
       "         7.85237171e-06,  2.48209144e-05,  2.17840625e-06, -5.44101713e-05,\n",
       "         3.15686157e-05,  1.61765747e-05, -1.99906772e-05, -6.26838155e-05,\n",
       "        -8.43915041e-05, -9.15573619e-05, -1.71515876e-05, -3.77923279e-05,\n",
       "        -2.73819733e-05, -5.52256897e-05, -8.94672849e-05,  5.87184877e-06,\n",
       "         8.55871040e-05, -3.14974250e-06, -3.85145540e-06,  9.16686986e-06,\n",
       "         2.64529554e-05, -1.46867351e-05,  3.02812496e-05, -9.17229190e-05,\n",
       "         2.56046133e-05, -3.18336897e-05,  3.97897020e-05, -2.01118928e-05,\n",
       "         2.87965067e-05,  6.44853480e-06, -3.72205795e-05,  6.74831608e-05,\n",
       "        -9.25235217e-05, -1.87093101e-05,  1.67533676e-06,  3.08162344e-05,\n",
       "        -3.73103576e-05,  9.59677272e-05,  2.20427646e-05,  2.37698041e-05,\n",
       "        -4.56542039e-05,  1.19449851e-07, -1.31577879e-04, -2.05372453e-05,\n",
       "        -7.31181790e-05,  2.71523095e-05, -9.61443366e-05,  1.45774966e-05,\n",
       "        -7.44883655e-05,  4.01365614e-05, -5.54774779e-05, -7.39536881e-06,\n",
       "         4.53383764e-05, -4.20748620e-07,  1.17548752e-05, -4.11144647e-05,\n",
       "         3.03004817e-05,  6.17519836e-05, -5.61076831e-06, -3.08844528e-06,\n",
       "        -3.10599989e-06,  1.86175089e-06, -1.10892506e-05, -6.56892807e-05,\n",
       "         7.12876426e-05, -7.28110172e-05, -6.33133750e-05, -5.42028101e-06,\n",
       "        -3.70660928e-05,  4.13451162e-05, -2.04285225e-05, -8.76887952e-06,\n",
       "         2.58512046e-06, -4.00837052e-06,  2.64922965e-05, -4.34313006e-05,\n",
       "         7.82511688e-06,  8.20234200e-05, -1.09543112e-06, -5.16630098e-06,\n",
       "         1.67306407e-05, -3.43221909e-05, -5.79293192e-05, -1.11035315e-05,\n",
       "         1.47495120e-05,  4.38202624e-05, -3.35789082e-05, -2.98279429e-05,\n",
       "         3.35204959e-06,  3.58105535e-06, -4.48762512e-05, -1.09382221e-04,\n",
       "        -2.95059399e-05,  4.15046925e-05, -2.10519574e-05,  2.40298868e-06,\n",
       "        -9.34427444e-05, -5.73261932e-05,  1.75188543e-05, -4.38280840e-05,\n",
       "        -6.49327194e-05, -1.87630594e-05,  4.11337678e-05, -1.59453357e-05,\n",
       "         8.99427384e-02, -3.73431249e-03,  1.22519443e-03, -1.47689469e-02,\n",
       "        -9.43273306e-03, -8.28395970e-03, -1.04515245e-02, -1.84725095e-02,\n",
       "        -7.30266375e-03, -3.33151370e-02, -4.25997898e-02,  7.09333736e-03,\n",
       "         1.79272629e-02, -2.01862454e-02,  1.15753179e-02, -1.57047510e-02,\n",
       "         7.10016191e-02, -2.94279475e-02,  6.20932505e-03, -1.28484908e-02,\n",
       "         2.38030031e-02,  4.62664180e-02,  8.27148836e-03, -1.74823515e-02,\n",
       "         4.84662950e-02, -3.11656576e-02, -7.96845742e-03, -2.53402330e-02,\n",
       "         5.77125996e-02, -6.04896666e-03, -2.01545432e-02, -1.37241520e-02,\n",
       "        -2.49978416e-02, -1.46922637e-02,  1.31583698e-02, -4.29964857e-03,\n",
       "        -4.72871438e-02, -1.47617357e-02,  1.84361003e-02,  3.25854262e-03,\n",
       "        -5.42399213e-02, -1.07326433e-02,  6.38939440e-03,  5.05871959e-02,\n",
       "         7.95925315e-03,  3.12980786e-02,  1.51817575e-02,  2.41269879e-02,\n",
       "        -1.35548068e-02,  1.13642756e-02, -7.67132966e-03,  4.04768325e-02,\n",
       "        -1.49488617e-02,  5.77217620e-03, -3.90688889e-04, -1.16641894e-02,\n",
       "         2.34872028e-02, -3.06468159e-02,  2.95394920e-02, -1.13168210e-02,\n",
       "         1.77568439e-02,  2.88932063e-02, -6.83382340e-03,  2.08006259e-02,\n",
       "        -1.19059309e-02,  1.67410774e-03, -4.19359393e-02, -1.10055329e-02,\n",
       "         4.81684320e-02, -7.18237925e-03,  1.19825359e-02,  2.60249525e-03,\n",
       "        -3.09111476e-02, -8.65919515e-04,  8.69230274e-03, -7.89423648e-04,\n",
       "         3.88848111e-02,  5.05010113e-02, -2.59308517e-02,  2.00575981e-02,\n",
       "         7.93775078e-03,  5.27915247e-02, -5.01188356e-03,  1.84434410e-02,\n",
       "         3.28995958e-02, -2.15907693e-02, -5.35617135e-02,  2.77129486e-02,\n",
       "         1.69860236e-02, -4.14238647e-02,  7.36819673e-03, -1.13005582e-02,\n",
       "        -1.47526506e-02, -2.67428644e-02, -1.15935656e-03,  1.65460110e-02,\n",
       "         3.42584401e-03,  2.36944370e-02,  6.30637035e-02,  2.25563683e-02,\n",
       "        -3.03847417e-02, -4.45568711e-02,  3.02630849e-03,  6.26634201e-03,\n",
       "         2.32463237e-03, -1.06843570e-02, -3.23195457e-02,  3.44769880e-02,\n",
       "         3.05718780e-02, -2.07229448e-03, -1.01499017e-02, -5.61440550e-03,\n",
       "        -2.80462950e-03,  7.57902255e-03, -2.15464085e-03, -2.52589956e-02,\n",
       "        -7.61252688e-03, -1.71111673e-02, -5.07909991e-03, -2.73379963e-02,\n",
       "        -2.97413655e-02, -2.13662814e-03, -1.01646362e-02, -1.10190082e-02,\n",
       "        -5.22285774e-02, -3.43167456e-03,  3.32293510e-02,  7.77566712e-03,\n",
       "         3.17038648e-05,  6.45004548e-08,  3.15286015e-05, -4.75923116e-06,\n",
       "         1.62899851e-05,  7.54595749e-06,  1.47234750e-05, -1.86474426e-05,\n",
       "        -9.27235851e-06,  7.87465251e-05,  8.14576779e-05,  1.98818234e-05,\n",
       "        -1.71960601e-05,  3.35837321e-05,  1.85548506e-05, -8.03914882e-05,\n",
       "        -1.31307432e-04, -6.08583287e-05,  9.51766197e-06, -4.00022036e-05,\n",
       "         7.24541460e-05,  1.50335172e-05,  4.95673521e-06,  3.34426513e-05,\n",
       "        -1.22532865e-05,  2.31238300e-06, -3.18353796e-06, -5.12336628e-05,\n",
       "         4.17028823e-05,  1.86387661e-06, -7.84223084e-06, -4.14015958e-05,\n",
       "        -7.15347633e-05, -7.99141126e-05, -5.18775187e-06, -1.28407228e-05,\n",
       "        -3.34843244e-05, -3.20898616e-05, -5.69907861e-05, -2.47129101e-05,\n",
       "         5.09383972e-05, -5.11119015e-06,  1.61530661e-05,  1.80898041e-06,\n",
       "         3.66790082e-05, -2.41538728e-05,  3.58370380e-05, -7.65203222e-05,\n",
       "         1.91602630e-05, -1.89534949e-05,  6.34083426e-06, -3.58033394e-05,\n",
       "         2.24959185e-05,  7.13635563e-06, -1.71019310e-05,  2.68280073e-05,\n",
       "        -7.98281835e-05, -1.85307035e-05,  6.32167621e-06,  2.30806181e-05,\n",
       "        -6.81523525e-05,  8.01413335e-05,  6.48657897e-06,  2.76566971e-05,\n",
       "        -4.03878475e-05,  1.36100352e-05, -8.16210013e-05, -1.43631423e-05,\n",
       "        -7.06920982e-05, -1.24798680e-06, -6.28965354e-05, -5.82718894e-06,\n",
       "        -5.12122388e-05,  3.85076055e-05, -3.08421440e-05, -9.00868054e-06,\n",
       "         5.26973963e-05, -2.06475452e-05,  1.30083172e-05, -1.84221080e-05,\n",
       "         3.09719071e-05,  3.14076788e-05,  1.32928344e-05, -1.58459006e-05,\n",
       "        -1.15902803e-05, -7.38567906e-06, -4.89855120e-06, -4.82706455e-05,\n",
       "         4.33047826e-05, -5.92401448e-05, -6.09726048e-05,  1.10698038e-05,\n",
       "        -1.66359987e-05,  2.20682377e-05, -1.87358237e-05,  2.37118311e-05,\n",
       "         4.94360211e-06, -4.29087322e-06,  3.63963545e-06, -2.00689574e-05,\n",
       "        -1.08558170e-05,  7.92545034e-05, -1.14589639e-05, -1.33756339e-05,\n",
       "         5.27075281e-06, -2.02425254e-05, -5.44633804e-05, -8.39764016e-06,\n",
       "         1.34598104e-05, -3.83571341e-06, -3.48956310e-05, -1.32521564e-05,\n",
       "        -9.93323101e-06,  2.05375582e-05, -3.54463300e-05, -8.44435126e-05,\n",
       "        -1.34626307e-05,  2.25326603e-05, -2.41329999e-05, -1.68977786e-05,\n",
       "        -6.88407890e-05, -2.41895777e-05, -8.70757412e-06, -1.46690600e-05,\n",
       "        -4.81718234e-05, -2.35490879e-05,  2.56951571e-05, -2.09890586e-05],\n",
       "       dtype=float32)>,\n",
       " <tf.Tensor: shape=(128, 10000), dtype=float32, numpy=\n",
       " array([[-1.72682747e-04, -1.15843525e-03,  7.65493460e-05, ...,\n",
       "         -2.03681424e-07, -2.03416221e-07, -2.03443989e-07],\n",
       "        [ 7.55918678e-04,  2.45761112e-05,  1.01027626e-03, ...,\n",
       "         -5.87425006e-07, -5.87155682e-07, -5.86996066e-07],\n",
       "        [ 5.79795975e-04,  2.05784541e-04,  1.16242474e-04, ...,\n",
       "         -1.38248697e-06, -1.38216660e-06, -1.38178109e-06],\n",
       "        ...,\n",
       "        [-6.72767637e-05,  1.05069543e-04,  7.31454114e-04, ...,\n",
       "         -1.30229751e-07, -1.28369038e-07, -1.28902570e-07],\n",
       "        [-2.67207331e-04, -7.92436709e-04, -7.12566194e-04, ...,\n",
       "          1.51248969e-07,  1.52121785e-07,  1.51194428e-07],\n",
       "        [ 1.93969905e-03,  3.85054783e-03,  1.92826695e-03, ...,\n",
       "         -4.37765402e-06, -4.37893505e-06, -4.37613517e-06]], dtype=float32)>,\n",
       " <tf.Tensor: shape=(10000,), dtype=float32, numpy=\n",
       " array([-0.79799825, -1.0313315 , -1.0313312 , ...,  0.00199944,\n",
       "         0.00199968,  0.00199865], dtype=float32)>]"
      ]
     },
     "execution_count": 67,
     "metadata": {},
     "output_type": "execute_result"
    }
   ],
   "source": [
    "# Define the gradient clipping threshold\n",
    "grads, _ = tf.clip_by_global_norm(grad_t_list, max_grad_norm)\n",
    "grads"
   ]
  },
  {
   "cell_type": "markdown",
   "metadata": {},
   "source": [
    "<h4> 4.Apply the optimizer to the variables/gradients tuple. </h4>\n"
   ]
  },
  {
   "cell_type": "code",
   "execution_count": 68,
   "metadata": {
    "tags": []
   },
   "outputs": [],
   "source": [
    "# Create the training TensorFlow Operation through our optimizer\n",
    "train_op = optimizer.apply_gradients(zip(grads, tvars))"
   ]
  },
  {
   "cell_type": "markdown",
   "metadata": {},
   "source": [
    "<a id=\"ltsm\"></a>\n",
    "<h2>LSTM</h2>\n"
   ]
  },
  {
   "cell_type": "markdown",
   "metadata": {},
   "source": [
    "We learned how the model is build step by step. Noe, let's then create a Class that represents our model. This class needs a few things:\n",
    "<ul>\n",
    "    <li>We have to create the model in accordance with our defined hyperparameters</li>\n",
    "    <li>We have to create the LSTM cell structure and connect them with our RNN structure</li>\n",
    "    <li>We have to create the word embeddings and point them to the input data</li>\n",
    "    <li>We have to create the input structure for our RNN</li>\n",
    "    <li>We need to create a logistic structure to return the probability of our words</li>\n",
    "    <li>We need to create the loss and cost functions for our optimizer to work, and then create the optimizer</li>\n",
    "    <li>And finally, we need to create a training operation that can be run to actually train our model</li>\n",
    "</ul>\n"
   ]
  },
  {
   "cell_type": "code",
   "execution_count": 69,
   "metadata": {
    "tags": []
   },
   "outputs": [],
   "source": [
    "class PTBModel(object):\n",
    "\n",
    "\n",
    "    def __init__(self):\n",
    "        ######################################\n",
    "        # Setting parameters for ease of use #\n",
    "        ######################################\n",
    "        self.batch_size = batch_size\n",
    "        self.num_steps = num_steps\n",
    "        self.hidden_size_l1 = hidden_size_l1\n",
    "        self.hidden_size_l2 = hidden_size_l2\n",
    "        self.vocab_size = vocab_size\n",
    "        self.embeding_vector_size = embeding_vector_size\n",
    "        # Create a variable for the learning rate\n",
    "        self._lr = 1.0\n",
    "        \n",
    "        ###############################################################################\n",
    "        # Initializing the model using keras Sequential API  #\n",
    "        ###############################################################################\n",
    "        \n",
    "        self._model = tf.keras.models.Sequential()\n",
    "        \n",
    "        ####################################################################\n",
    "        # Creating the word embeddings layer and adding it to the sequence #\n",
    "        ####################################################################\n",
    "        with tf.device(\"/cpu:0\"):\n",
    "            # Create the embeddings for our input data. Size is hidden size.\n",
    "            self._embedding_layer = tf.keras.layers.Embedding(self.vocab_size, self.embeding_vector_size,batch_input_shape=(self.batch_size, self.num_steps),trainable=True,name=\"embedding_vocab\")  #[10000x200]\n",
    "            self._model.add(self._embedding_layer)\n",
    "            \n",
    "\n",
    "        ##########################################################################\n",
    "        # Creating the LSTM cell structure and connect it with the RNN structure #\n",
    "        ##########################################################################\n",
    "        # Create the LSTM Cells. \n",
    "        # This creates only the structure for the LSTM and has to be associated with a RNN unit still.\n",
    "        # The argument  of LSTMCell is size of hidden layer, that is, the number of hidden units of the LSTM (inside A). \n",
    "        # LSTM cell processes one word at a time and computes probabilities of the possible continuations of the sentence.\n",
    "        lstm_cell_l1 = tf.keras.layers.LSTMCell(hidden_size_l1)\n",
    "        lstm_cell_l2 = tf.keras.layers.LSTMCell(hidden_size_l2)\n",
    "        \n",
    "\n",
    "        \n",
    "        # By taking in the LSTM cells as parameters, the StackedRNNCells function junctions the LSTM units to the RNN units.\n",
    "        # RNN cell composed sequentially of stacked simple cells.\n",
    "        stacked_lstm = tf.keras.layers.StackedRNNCells([lstm_cell_l1, lstm_cell_l2])\n",
    "\n",
    "\n",
    "        \n",
    "\n",
    "        ############################################\n",
    "        # Creating the input structure for our RNN #\n",
    "        ############################################\n",
    "        # Input structure is 20x[30x200]\n",
    "        # Considering each word is represended by a 200 dimentional vector, and we have 30 batchs, we create 30 word-vectors of size [30xx2000]\n",
    "        # The input structure is fed from the embeddings, which are filled in by the input data\n",
    "        # Feeding a batch of b sentences to a RNN:\n",
    "        # In step 1,  first word of each of the b sentences (in a batch) is input in parallel.  \n",
    "        # In step 2,  second word of each of the b sentences is input in parallel. \n",
    "        # The parallelism is only for efficiency.  \n",
    "        # Each sentence in a batch is handled in parallel, but the network sees one word of a sentence at a time and does the computations accordingly. \n",
    "        # All the computations involving the words of all sentences in a batch at a given time step are done in parallel. \n",
    "\n",
    "        ########################################################################################################\n",
    "        # Instantiating our RNN model and setting stateful to True to feed forward the state to the next layer #\n",
    "        ########################################################################################################\n",
    "        \n",
    "        self._RNNlayer  =  tf.keras.layers.RNN(stacked_lstm,[batch_size, num_steps],return_state=False,stateful=True,trainable=True)\n",
    "        \n",
    "        # Define the initial state, i.e., the model state for the very first data point\n",
    "        # It initialize the state of the LSTM memory. The memory state of the network is initialized with a vector of zeros and gets updated after reading each word.\n",
    "        self._initial_state = tf.Variable(tf.zeros([batch_size,embeding_vector_size]),trainable=False)\n",
    "        self._RNNlayer.inital_state = self._initial_state\n",
    "    \n",
    "        ############################################\n",
    "        # Adding RNN layer to keras sequential API #\n",
    "        ############################################        \n",
    "        self._model.add(self._RNNlayer)\n",
    "        \n",
    "        #self._model.add(tf.keras.layers.LSTM(hidden_size_l1,return_sequences=True,stateful=True))\n",
    "        #self._model.add(tf.keras.layers.LSTM(hidden_size_l2,return_sequences=True))\n",
    "        \n",
    "        \n",
    "        ####################################################################################################\n",
    "        # Instantiating a Dense layer that connects the output to the vocab_size  and adding layer to model#\n",
    "        ####################################################################################################\n",
    "        self._dense = tf.keras.layers.Dense(self.vocab_size)\n",
    "        self._model.add(self._dense)\n",
    " \n",
    "        \n",
    "        ####################################################################################################\n",
    "        # Adding softmax activation layer and deriving probability to each class and adding layer to model #\n",
    "        ####################################################################################################\n",
    "        self._activation = tf.keras.layers.Activation('softmax')\n",
    "        self._model.add(self._activation)\n",
    "\n",
    "        ##########################################################\n",
    "        # Instantiating the stochastic gradient decent optimizer #\n",
    "        ########################################################## \n",
    "        self._optimizer = tf.keras.optimizers.SGD(lr=self._lr, clipnorm=max_grad_norm)\n",
    "        \n",
    "        \n",
    "        ##############################################################################\n",
    "        # Compiling and summarizing the model stacked using the keras sequential API #\n",
    "        ##############################################################################\n",
    "        self._model.compile(loss=self.crossentropy, optimizer=self._optimizer)\n",
    "        self._model.summary()\n",
    "\n",
    "\n",
    "    def crossentropy(self,y_true, y_pred):\n",
    "        return tf.keras.losses.sparse_categorical_crossentropy(y_true, y_pred)\n",
    "\n",
    "    def train_batch(self,_input_data,_targets):\n",
    "        #################################################\n",
    "        # Creating the Training Operation for our Model #\n",
    "        #################################################\n",
    "        # Create a variable for the learning rate\n",
    "        self._lr = tf.Variable(0.0, trainable=False)\n",
    "        # Get all TensorFlow variables marked as \"trainable\" (i.e. all of them except _lr, which we just created)\n",
    "        tvars = self._model.trainable_variables\n",
    "        # Define the gradient clipping threshold\n",
    "        with tf.GradientTape() as tape:\n",
    "            # Forward pass.\n",
    "            output_words_prob = self._model(_input_data)\n",
    "            # Loss value for this batch.\n",
    "            loss  = self.crossentropy(_targets, output_words_prob)\n",
    "            # average across batch and reduce sum\n",
    "            cost = tf.reduce_sum(loss/ self.batch_size)\n",
    "        # Get gradients of loss wrt the trainable variables.\n",
    "        grad_t_list = tape.gradient(cost, tvars)\n",
    "        # Define the gradient clipping threshold\n",
    "        grads, _ = tf.clip_by_global_norm(grad_t_list, max_grad_norm)\n",
    "        # Create the training TensorFlow Operation through our optimizer\n",
    "        train_op = self._optimizer.apply_gradients(zip(grads, tvars))\n",
    "        return cost\n",
    "        \n",
    "    def test_batch(self,_input_data,_targets):\n",
    "        #################################################\n",
    "        # Creating the Testing Operation for our Model #\n",
    "        #################################################\n",
    "        output_words_prob = self._model(_input_data)\n",
    "        loss  = self.crossentropy(_targets, output_words_prob)\n",
    "        # average across batch and reduce sum\n",
    "        cost = tf.reduce_sum(loss/ self.batch_size)\n",
    "\n",
    "        return cost\n",
    "    @classmethod\n",
    "    def instance(cls) : \n",
    "        return PTBModel()"
   ]
  },
  {
   "cell_type": "markdown",
   "metadata": {},
   "source": [
    "With that, the actual structure of our Recurrent Neural Network with Long Short-Term Memory is finished. What remains for us to do is to actually create the methods to run through time -- that is, the <code>run_epoch</code> method to be run at each epoch and a <code>main</code> script which ties all of this together.\n",
    "\n",
    "What our <code>run_epoch</code> method should do is take our input data and feed it to the relevant operations. This will return at the very least the current result for the cost function.\n"
   ]
  },
  {
   "cell_type": "code",
   "execution_count": 70,
   "metadata": {
    "tags": []
   },
   "outputs": [],
   "source": [
    "\n",
    "########################################################################################################################\n",
    "# run_one_epoch takes as parameters  the model instance, the data to be fed, training or testing mode and verbose info #\n",
    "########################################################################################################################\n",
    "def run_one_epoch(m, data,is_training=True,verbose=False):\n",
    "\n",
    "    #Define the epoch size based on the length of the data, batch size and the number of steps\n",
    "    epoch_size = ((len(data) // m.batch_size) - 1) // m.num_steps\n",
    "    start_time = time.time()\n",
    "    costs = 0.\n",
    "    iters = 0\n",
    "    \n",
    "    m._model.reset_states()\n",
    "    \n",
    "    #For each step and data point\n",
    "    for step, (x, y) in enumerate(ptb_iterator(data, m.batch_size, m.num_steps)):\n",
    "        \n",
    "        #Evaluate and return cost, state by running cost, final_state and the function passed as parameter\n",
    "        #y = tf.keras.utils.to_categorical(y, num_classes=vocab_size)\n",
    "        if is_training : \n",
    "            loss=  m.train_batch(x, y)\n",
    "        else :\n",
    "            loss = m.test_batch(x, y)\n",
    "                                   \n",
    "\n",
    "        #Add returned cost to costs (which keeps track of the total costs for this epoch)\n",
    "        costs += loss\n",
    "        \n",
    "        #Add number of steps to iteration counter\n",
    "        iters += m.num_steps\n",
    "\n",
    "        if verbose and step % (epoch_size // 10) == 10:\n",
    "            print(\"Itr %d of %d, perplexity: %.3f speed: %.0f wps\" % (step , epoch_size, np.exp(costs / iters), iters * m.batch_size / (time.time() - start_time)))\n",
    "        \n",
    "\n",
    "\n",
    "    # Returns the Perplexity rating for us to keep track of how the model is evolving\n",
    "    return np.exp(costs / iters)\n"
   ]
  },
  {
   "cell_type": "markdown",
   "metadata": {},
   "source": [
    "Now, we create the <code>main</code> method to tie everything together. The code here reads the data from the directory, using the <code>reader</code> helper module, and then trains and evaluates the model on both a testing and a validating subset of data.\n"
   ]
  },
  {
   "cell_type": "code",
   "execution_count": 71,
   "metadata": {
    "tags": []
   },
   "outputs": [],
   "source": [
    "# Reads the data and separates it into training data, validation data and testing data\n",
    "raw_data = ptb_raw_data(data_dir)\n",
    "train_data, valid_data, test_data, _, _ = raw_data"
   ]
  },
  {
   "cell_type": "code",
   "execution_count": null,
   "metadata": {
    "tags": []
   },
   "outputs": [
    {
     "name": "stdout",
     "output_type": "stream",
     "text": [
      "Model: \"sequential_1\"\n",
      "_________________________________________________________________\n",
      " Layer (type)                Output Shape              Param #   \n",
      "=================================================================\n",
      " embedding_vocab (Embedding)  (30, 20, 200)            2000000   \n",
      "                                                                 \n",
      " rnn_2 (RNN)                 (30, 20, 128)             671088    \n",
      "                                                                 \n",
      " dense_1 (Dense)             (30, 20, 10000)           1290000   \n",
      "                                                                 \n",
      " activation_1 (Activation)   (30, 20, 10000)           0         \n",
      "                                                                 \n",
      "=================================================================\n",
      "Total params: 3,961,088\n",
      "Trainable params: 3,955,088\n",
      "Non-trainable params: 6,000\n",
      "_________________________________________________________________\n",
      "Epoch 1 : Learning rate: 1.000\n",
      "Itr 10 of 1549, perplexity: 4974.932 speed: 1109 wps\n",
      "Itr 164 of 1549, perplexity: 1113.447 speed: 1198 wps\n",
      "Itr 318 of 1549, perplexity: 856.816 speed: 1205 wps\n",
      "Itr 472 of 1549, perplexity: 705.209 speed: 1211 wps\n",
      "Itr 626 of 1549, perplexity: 600.153 speed: 1214 wps\n"
     ]
    }
   ],
   "source": [
    "# Instantiates the PTBModel class\n",
    "m=PTBModel.instance()   \n",
    "K = tf.keras.backend \n",
    "for i in range(max_epoch):\n",
    "    # Define the decay for this epoch\n",
    "    lr_decay = decay ** max(i - max_epoch_decay_lr, 0.0)\n",
    "    dcr = learning_rate * lr_decay\n",
    "    m._lr = dcr\n",
    "    K.set_value(m._model.optimizer.learning_rate,m._lr)\n",
    "    print(\"Epoch %d : Learning rate: %.3f\" % (i + 1, m._model.optimizer.learning_rate))\n",
    "    # Run the loop for this epoch in the training mode\n",
    "    train_perplexity = run_one_epoch(m, train_data,is_training=True,verbose=True)\n",
    "    print(\"Epoch %d : Train Perplexity: %.3f\" % (i + 1, train_perplexity))\n",
    "        \n",
    "    # Run the loop for this epoch in the validation mode\n",
    "    valid_perplexity = run_one_epoch(m, valid_data,is_training=False,verbose=False)\n",
    "    print(\"Epoch %d : Valid Perplexity: %.3f\" % (i + 1, valid_perplexity))\n",
    "    \n",
    "# Run the loop in the testing mode to see how effective was our training\n",
    "test_perplexity = run_one_epoch(m, test_data,is_training=False,verbose=False)\n",
    "print(\"Test Perplexity: %.3f\" % test_perplexity)\n",
    "\n"
   ]
  },
  {
   "cell_type": "markdown",
   "metadata": {},
   "source": [
    "As you can see, the model's perplexity rating drops very quickly after a few iterations. As was elaborated before, <b>lower Perplexity means that the model is more certain about its prediction</b>. As such, we can be sure that this model is performing well!\n"
   ]
  },
  {
   "cell_type": "markdown",
   "metadata": {},
   "source": [
    "-------\n"
   ]
  },
  {
   "cell_type": "markdown",
   "metadata": {},
   "source": [
    "This is the end of the <b>Applying Recurrent Neural Networks to Text Processing</b> notebook. Hopefully you now have a better understanding of Recurrent Neural Networks and how to implement one utilizing TensorFlow. Thank you for reading this notebook, and good luck on your studies.\n"
   ]
  },
  {
   "cell_type": "markdown",
   "metadata": {},
   "source": [
    "## Want to learn more?\n",
    "\n",
    "Also, you can use __Watson Studio__ to run these notebooks faster with bigger datasets.__Watson Studio__ is IBM’s leading cloud solution for data scientists, built by data scientists. With Jupyter notebooks, RStudio, Apache Spark and popular libraries pre-packaged in the cloud, __Watson Studio__ enables data scientists to collaborate on their projects without having to install anything. Join the fast-growing community of __Watson Studio__ users today with a free account at [Watson Studio](https://cocl.us/ML0120EN_DSX).This is the end of this lesson. Thank you for reading this notebook, and good luck on your studies.\n"
   ]
  },
  {
   "cell_type": "markdown",
   "metadata": {},
   "source": [
    "### Thanks for completing this lesson!\n",
    "\n",
    "Notebook created by <a href=\"https://br.linkedin.com/in/walter-gomes-de-amorim-junior-624726121?utm_medium=Exinfluencer&utm_source=Exinfluencer&utm_content=000026UJ&utm_term=10006555&utm_id=NA-SkillsNetwork-Channel-SkillsNetworkCoursesIBMDeveloperSkillsNetworkDL0120ENSkillsNetwork954-2023-01-01\">Walter Gomes de Amorim Junior</a>, <a href = \"https://linkedin.com/in/saeedaghabozorgi\"> Saeed Aghabozorgi </a></h4>\n",
    "\n",
    "\n",
    "Updated to TF 2.X by  <a href=\"https://www.linkedin.com/in/samaya-madhavan?utm_medium=Exinfluencer&utm_source=Exinfluencer&utm_content=000026UJ&utm_term=10006555&utm_id=NA-SkillsNetwork-Channel-SkillsNetworkCoursesIBMDeveloperSkillsNetworkDL0120ENSkillsNetwork954-2023-01-01\"> Samaya Madhavan </a>\n"
   ]
  },
  {
   "cell_type": "markdown",
   "metadata": {},
   "source": [
    "<hr>\n",
    "\n",
    "Copyright &copy; 2018 [Cognitive Class](https://cocl.us/DX0108EN_CC). This notebook and its source code are released under the terms of the [MIT License](https://bigdatauniversity.com/mit-license/?utm_medium=Exinfluencer&utm_source=Exinfluencer&utm_content=000026UJ&utm_term=10006555&utm_id=NA-SkillsNetwork-Channel-SkillsNetworkCoursesIBMDeveloperSkillsNetworkDL0120ENSkillsNetwork954-2023-01-01).\n"
   ]
  }
 ],
 "metadata": {
  "kernelspec": {
   "display_name": "Python",
   "language": "python",
   "name": "conda-env-python-py"
  },
  "language_info": {
   "codemirror_mode": {
    "name": "ipython",
    "version": 3
   },
   "file_extension": ".py",
   "mimetype": "text/x-python",
   "name": "python",
   "nbconvert_exporter": "python",
   "pygments_lexer": "ipython3",
   "version": "3.7.12"
  }
 },
 "nbformat": 4,
 "nbformat_minor": 4
}
